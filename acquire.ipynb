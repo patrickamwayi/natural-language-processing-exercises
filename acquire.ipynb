{
 "cells": [
  {
   "cell_type": "code",
   "execution_count": 1,
   "id": "e6a8c761",
   "metadata": {},
   "outputs": [],
   "source": [
    "import numpy as np\n",
    "import pandas as pd\n",
    "from requests import get\n",
    "from bs4 import BeautifulSoup\n",
    "from bs4 import BeautifulSoup as soupify"
   ]
  },
  {
   "cell_type": "markdown",
   "id": "dc3292e6",
   "metadata": {},
   "source": [
    "## Exercise\n",
    "### 1. Codeup Blog Articles\n",
    "\n",
    "### Visit Codeup's Blog and record the urls for at least 5 distinct blog posts. For each post, you should scrape at least the post's title and content.\n",
    "\n",
    "### Encapsulate your work in a function named get_blog_articles that will return a list of dictionaries, with each dictionary representing one article. The shape of each dictionary should look like this:"
   ]
  },
  {
   "cell_type": "code",
   "execution_count": 2,
   "id": "06940b38",
   "metadata": {},
   "outputs": [
    {
     "data": {
      "text/plain": [
       "{'title': 'the title of the article',\n",
       " 'content': 'the full text content of the article'}"
      ]
     },
     "execution_count": 2,
     "metadata": {},
     "output_type": "execute_result"
    }
   ],
   "source": [
    "{\n",
    "    'title': 'the title of the article',\n",
    "    'content': 'the full text content of the article'\n",
    "}\n"
   ]
  },
  {
   "cell_type": "markdown",
   "id": "5a876fe8",
   "metadata": {},
   "source": [
    "### Plus any additional properties you think might be helpful."
   ]
  },
  {
   "cell_type": "code",
   "execution_count": 3,
   "id": "0b1f69a3",
   "metadata": {},
   "outputs": [],
   "source": [
    "#Blog Post URLs\n",
    "url1 = 'https://codeup.com/codeup-news/dei-report/'\n",
    "url2 = 'https://codeup.com/codeup-news/diversity-and-inclusion-award/'\n",
    "url3 = 'https://codeup.com/featured/financing-career-transition/'\n",
    "url4 = 'https://codeup.com/tips-for-prospective-students/tips-for-women/'\n",
    "url5 = 'https://codeup.com/cloud-administration/cloud-computing-and-aws/'\n",
    "url6 = 'https://codeup.com/codeup-news/c-suite-award-stephen-noteboom/'"
   ]
  },
  {
   "cell_type": "markdown",
   "id": "7c81760d",
   "metadata": {},
   "source": [
    "## Let us work with url1"
   ]
  },
  {
   "cell_type": "code",
   "execution_count": 4,
   "id": "211f4753",
   "metadata": {},
   "outputs": [
    {
     "data": {
      "text/plain": [
       "'https://codeup.com/codeup-news/dei-report/'"
      ]
     },
     "execution_count": 4,
     "metadata": {},
     "output_type": "execute_result"
    }
   ],
   "source": [
    "#get url1\n",
    "url1"
   ]
  },
  {
   "cell_type": "code",
   "execution_count": 5,
   "id": "56f794a1",
   "metadata": {},
   "outputs": [
    {
     "data": {
      "text/plain": [
       "b'<html>\\r\\n<head><title>403 Forbidden</title></head>\\r\\n<body>\\r\\n<center><h1>403 Forbidden</h1></center>\\r\\n<hr><center>nginx</center>\\r\\n</body>\\r\\n</html>\\r\\n'"
      ]
     },
     "execution_count": 5,
     "metadata": {},
     "output_type": "execute_result"
    }
   ],
   "source": [
    "# grab the text from our url1\n",
    "# this gives us all the raw text that makes up the code of the \n",
    "# static site\n",
    "get(url1).content"
   ]
  },
  {
   "cell_type": "code",
   "execution_count": 6,
   "id": "c512dbfc",
   "metadata": {},
   "outputs": [],
   "source": [
    "# let's utilize beautiful soup to add to our response content:\n",
    "from bs4 import BeautifulSoup"
   ]
  },
  {
   "cell_type": "code",
   "execution_count": 7,
   "id": "8e82ba6d",
   "metadata": {},
   "outputs": [],
   "source": [
    "# we'll keep this url in our pocket for later\n",
    "url2 = 'https://codeup.com/codeup-news/diversity-and-inclusion-award/'"
   ]
  },
  {
   "cell_type": "code",
   "execution_count": 8,
   "id": "32765ce2",
   "metadata": {},
   "outputs": [
    {
     "data": {
      "text/plain": [
       "<Response [200]>"
      ]
     },
     "execution_count": 8,
     "metadata": {},
     "output_type": "execute_result"
    }
   ],
   "source": [
    "headers = {'User-Agent': 'hamsandwich'}\n",
    "response = get(url1, headers=headers)\n",
    "response"
   ]
  },
  {
   "cell_type": "code",
   "execution_count": 12,
   "id": "6e128c5b",
   "metadata": {},
   "outputs": [],
   "source": [
    "article_soup = soupify(get(\n",
    "    'https://codeup.com/codeup-news/dei-report/',\n",
    "    headers=headers\n",
    ").content)"
   ]
  },
  {
   "cell_type": "code",
   "execution_count": 13,
   "id": "d657c687",
   "metadata": {},
   "outputs": [
    {
     "data": {
      "text/plain": [
       "'Diversity Equity and Inclusion Report'"
      ]
     },
     "execution_count": 13,
     "metadata": {},
     "output_type": "execute_result"
    }
   ],
   "source": [
    "# if I only have one thing, use select_one\n",
    "article_soup.select_one('h1.entry-title').text"
   ]
  },
  {
   "cell_type": "code",
   "execution_count": 14,
   "id": "822c8754",
   "metadata": {},
   "outputs": [
    {
     "data": {
      "text/plain": [
       "'Codeup is excited to launch our first Diversity Equity, and Inclusion (DEI) report! In over eight years as an organization, we’ve implemented policies and grown our DEI efforts. We are extremely proud of the progress we’ve made as a staff and Codeup community, and we recognize there is more to learn. This report captures some of the ways that we’ve lived our value of Cultivating Inclusive Growth, and how we will continue doing so as we look to the future.\\nWe wanted to shine a light on the demographics of our students and staff, and in particular how that compares to the tech industry as a whole. How we collect, organize, and share employee demographic data is informed by standards set by the Equal Employment Opportunity Commission (EEOC).\\nWe are proud to celebrate how we’ve grown and are motivated and committed to do more and be better. To view the report visit the link here, or download it below.'"
      ]
     },
     "execution_count": 14,
     "metadata": {},
     "output_type": "execute_result"
    }
   ],
   "source": [
    "# let's get the article content now:\n",
    "article_soup.select_one('div.entry-content').text.strip()"
   ]
  },
  {
   "cell_type": "code",
   "execution_count": null,
   "id": "91c1b02b",
   "metadata": {},
   "outputs": [],
   "source": []
  },
  {
   "cell_type": "code",
   "execution_count": null,
   "id": "c5c42057",
   "metadata": {},
   "outputs": [],
   "source": [
    "###INCOMPLETE### EXERCISE ATTEMPTED WIP####"
   ]
  },
  {
   "cell_type": "code",
   "execution_count": null,
   "id": "a3aa72d2",
   "metadata": {},
   "outputs": [],
   "source": []
  },
  {
   "cell_type": "code",
   "execution_count": 9,
   "id": "8f1a0654",
   "metadata": {},
   "outputs": [
    {
     "name": "stdout",
     "output_type": "stream",
     "text": [
      "<!DOCTYPE html>\n",
      "<html lang=\"en-US\">\n",
      "<head>\n",
      "\t<meta charset=\"UTF-8\" />\n",
      "<meta http-equiv=\"X-UA-Compatible\" content=\"IE=edge\">\n",
      "\t<link rel=\"pingback\" href=\"https://codeup.com/xmlrpc.php\" />\n",
      "\n",
      "\t<script type=\"text/javascript\">\n",
      "\t\tdocument.documentElement.className = 'js';\n",
      "\t</script>\n",
      "\t\n",
      "\t<link rel=\"preconnect\" href=\"https://fonts.gstatic.com\" crossorigin /><script id=\"diviarea-loader\">window.DiviPopupData=wi\n"
     ]
    }
   ],
   "source": [
    "#let's take a look at sanity check\n",
    "print(response.text[:400])"
   ]
  },
  {
   "cell_type": "code",
   "execution_count": 10,
   "id": "3ac000ad",
   "metadata": {},
   "outputs": [],
   "source": [
    "# make a soup:\n",
    "# recipe:\n",
    "# call BeautifulSoup on the content of our response\n",
    "soup = BeautifulSoup(response.content, 'html.parser')"
   ]
  },
  {
   "cell_type": "code",
   "execution_count": 11,
   "id": "6b8c2597",
   "metadata": {},
   "outputs": [],
   "source": [
    "# If we look at soup, its of the same structure as the text, but a little cleaner\n",
    "# and furthermore, its a new object -- a BeautifulSoup object\n",
    "# soup"
   ]
  },
  {
   "cell_type": "code",
   "execution_count": 12,
   "id": "337de08c",
   "metadata": {},
   "outputs": [
    {
     "data": {
      "text/plain": [
       "<p class=\"post-meta\"><span class=\"published\">Oct 7, 2022</span> | <a href=\"https://codeup.com/category/codeup-news/\" rel=\"category tag\">Codeup News</a></p>"
      ]
     },
     "execution_count": 12,
     "metadata": {},
     "output_type": "execute_result"
    }
   ],
   "source": [
    "# I can reference tags with dot notation, but it seems to present \n",
    "# issues when there's more than one thing that I want.\n",
    "# what do?\n",
    "soup.p"
   ]
  },
  {
   "cell_type": "code",
   "execution_count": 13,
   "id": "0f5b9da1",
   "metadata": {},
   "outputs": [
    {
     "data": {
      "text/plain": [
       "<p class=\"post-meta\"><span class=\"published\">Oct 7, 2022</span> | <a href=\"https://codeup.com/category/codeup-news/\" rel=\"category tag\">Codeup News</a></p>"
      ]
     },
     "execution_count": 13,
     "metadata": {},
     "output_type": "execute_result"
    }
   ],
   "source": [
    "# find:\n",
    "# think about find as \"find first\"\n",
    "soup.find('p')"
   ]
  },
  {
   "cell_type": "code",
   "execution_count": 14,
   "id": "3299a131",
   "metadata": {},
   "outputs": [
    {
     "data": {
      "text/plain": [
       "<p>Codeup is excited to launch our first Diversity Equity, and Inclusion (DEI) report! In over eight years as an organization, we’ve implemented policies and grown our DEI efforts. We are extremely proud of the progress we’ve made as a staff and Codeup community, and we recognize there is more to learn. This report captures some of the ways that we’ve lived our value of Cultivating Inclusive Growth, and how we will continue doing so as we look to the future.</p>"
      ]
     },
     "execution_count": 14,
     "metadata": {},
     "output_type": "execute_result"
    }
   ],
   "source": [
    "# think about find_all as \"find all elements\"\n",
    "# its not technically a list but you will interact with it\n",
    "# in the same manner: [index]\n",
    "soup.find_all('p')[1]"
   ]
  },
  {
   "cell_type": "code",
   "execution_count": 15,
   "id": "c32a4ef9",
   "metadata": {},
   "outputs": [
    {
     "data": {
      "text/plain": [
       "'Codeup is excited to launch our first Diversity Equity, and Inclusion (DEI) report! In over eight years as an organization, we’ve implemented policies and grown our DEI efforts. We are extremely proud of the progress we’ve made as a staff and Codeup community, and we recognize there is more to learn. This report captures some of the ways that we’ve lived our value of Cultivating Inclusive Growth, and how we will continue doing so as we look to the future.'"
      ]
     },
     "execution_count": 15,
     "metadata": {},
     "output_type": "execute_result"
    }
   ],
   "source": [
    "# if we want to grab the content from each thing:\n",
    "# use .text to remove the html tags\n",
    "# use .strip() string method to remove the extra whitespace\n",
    "# use regex for anything else idk lol\n",
    "soup.find_all('p')[1].text.strip()"
   ]
  },
  {
   "cell_type": "code",
   "execution_count": 16,
   "id": "84c52cce",
   "metadata": {},
   "outputs": [
    {
     "data": {
      "text/plain": [
       "str"
      ]
     },
     "execution_count": 16,
     "metadata": {},
     "output_type": "execute_result"
    }
   ],
   "source": [
    "# the text content of our tag is already a string\n",
    "type(soup.find_all('p')[1].text)"
   ]
  },
  {
   "cell_type": "code",
   "execution_count": 17,
   "id": "a935787c",
   "metadata": {},
   "outputs": [
    {
     "name": "stdout",
     "output_type": "stream",
     "text": [
      "here\n",
      "is\n",
      "some\text\n"
     ]
    }
   ],
   "source": [
    "# remember escape keys for whitespace as we parse this stuff:\n",
    "print('here\\nis\\nsome\\text')"
   ]
  },
  {
   "cell_type": "code",
   "execution_count": 18,
   "id": "3d64f3bd",
   "metadata": {},
   "outputs": [
    {
     "data": {
      "text/plain": [
       "1"
      ]
     },
     "execution_count": 18,
     "metadata": {},
     "output_type": "execute_result"
    }
   ],
   "source": [
    "len(soup.select('h1'))"
   ]
  },
  {
   "cell_type": "code",
   "execution_count": 19,
   "id": "d29712b4",
   "metadata": {},
   "outputs": [
    {
     "data": {
      "text/plain": [
       "1"
      ]
     },
     "execution_count": 19,
     "metadata": {},
     "output_type": "execute_result"
    }
   ],
   "source": [
    "len(soup.find_all('h1'))"
   ]
  },
  {
   "cell_type": "code",
   "execution_count": 20,
   "id": "c3dfd553",
   "metadata": {},
   "outputs": [
    {
     "data": {
      "text/plain": [
       "['Diversity Equity and Inclusion Report']"
      ]
     },
     "execution_count": 20,
     "metadata": {},
     "output_type": "execute_result"
    }
   ],
   "source": [
    "# use list comprehension to grab all the content that \n",
    "# I wanted from the h1 header tag:\n",
    "# translation:\n",
    "# the thing's text stripped of whitespace\n",
    "# for every element\n",
    "# that results from the soup.select() call\n",
    "# on my h1 named tag\n",
    "[thing.text.strip() for thing in soup.select('h1')]"
   ]
  },
  {
   "cell_type": "markdown",
   "id": "549fa684",
   "metadata": {},
   "source": [
    "## Let us work with url2"
   ]
  },
  {
   "cell_type": "code",
   "execution_count": 21,
   "id": "ce5eb822",
   "metadata": {},
   "outputs": [
    {
     "data": {
      "text/plain": [
       "'https://codeup.com/codeup-news/diversity-and-inclusion-award/'"
      ]
     },
     "execution_count": 21,
     "metadata": {},
     "output_type": "execute_result"
    }
   ],
   "source": [
    "url2"
   ]
  },
  {
   "cell_type": "code",
   "execution_count": 22,
   "id": "ed6691bb",
   "metadata": {},
   "outputs": [],
   "source": [
    "# let's grab content from url2:\n",
    "# use get :\n",
    "response = get(url2).content\n",
    "# use soup: \n",
    "soup2 = BeautifulSoup(response, 'html.parser')"
   ]
  },
  {
   "cell_type": "code",
   "execution_count": 23,
   "id": "940aa68c",
   "metadata": {},
   "outputs": [
    {
     "data": {
      "text/plain": [
       "0"
      ]
     },
     "execution_count": 23,
     "metadata": {},
     "output_type": "execute_result"
    }
   ],
   "source": [
    "len(soup2.find_all('div'))"
   ]
  },
  {
   "cell_type": "code",
   "execution_count": null,
   "id": "c2522a2f",
   "metadata": {},
   "outputs": [],
   "source": []
  },
  {
   "cell_type": "code",
   "execution_count": 24,
   "id": "a1047bf6",
   "metadata": {},
   "outputs": [
    {
     "data": {
      "text/plain": [
       "0"
      ]
     },
     "execution_count": 24,
     "metadata": {},
     "output_type": "execute_result"
    }
   ],
   "source": [
    "len(soup2.select('div'))\n"
   ]
  },
  {
   "cell_type": "code",
   "execution_count": 25,
   "id": "9e25134a",
   "metadata": {},
   "outputs": [
    {
     "data": {
      "text/plain": [
       "[]"
      ]
     },
     "execution_count": 25,
     "metadata": {},
     "output_type": "execute_result"
    }
   ],
   "source": [
    "# if we want to reference the class out of here specifically:\n",
    "# classes can be referenced with dot notation\n",
    "# find_all does not play with the css as well as select:\n",
    "# this does not break but it gives us an empty set\n",
    "soup2.find_all('div.grid.grid-cols-4')"
   ]
  },
  {
   "cell_type": "code",
   "execution_count": 26,
   "id": "3eaf1361",
   "metadata": {},
   "outputs": [],
   "source": [
    "articles = soup2.select('div.grid.grid-cols-4')"
   ]
  },
  {
   "cell_type": "code",
   "execution_count": 35,
   "id": "b12da56f",
   "metadata": {},
   "outputs": [],
   "source": [
    "# make a soup:\n",
    "# recipe:\n",
    "# call BeautifulSoup on the content of our response\n",
    "soup = BeautifulSoup(get(url2).content, 'html.parser')"
   ]
  },
  {
   "cell_type": "code",
   "execution_count": 36,
   "id": "703e3801",
   "metadata": {},
   "outputs": [
    {
     "data": {
      "text/plain": [
       "<html>\n",
       "<head><title>403 Forbidden</title></head>\n",
       "<body>\n",
       "<center><h1>403 Forbidden</h1></center>\n",
       "<hr/><center>nginx</center>\n",
       "</body>\n",
       "</html>"
      ]
     },
     "execution_count": 36,
     "metadata": {},
     "output_type": "execute_result"
    }
   ],
   "source": [
    "# If we look at soup, its of the same structure as the text, but a little cleaner\n",
    "# and furthermore, its a new object -- a BeautifulSoup object\n",
    "soup"
   ]
  },
  {
   "cell_type": "code",
   "execution_count": 37,
   "id": "416a7814",
   "metadata": {},
   "outputs": [
    {
     "data": {
      "text/plain": [
       "0"
      ]
     },
     "execution_count": 37,
     "metadata": {},
     "output_type": "execute_result"
    }
   ],
   "source": [
    "len(soup2.find_all('div'))\n"
   ]
  },
  {
   "cell_type": "code",
   "execution_count": 30,
   "id": "6a879251",
   "metadata": {},
   "outputs": [],
   "source": [
    "## Create function that creates a dictionary out of a codeup blog page url\n",
    "\n",
    "def parse_blog(url):\n",
    "    url = url\n",
    "    #establish header\n",
    "    headers = {'User-Agent': 'Codeup Data Science'}\n",
    "    response = get(url, headers=headers)\n",
    "    \n",
    "    # Make a soup variable holding the response content\n",
    "    soup = BeautifulSoup(response.content, 'html.parser')\n",
    "    \n",
    "    output = {}\n",
    "    output['title'] = soup.find('h1', class_='entry-title').text\n",
    "    output['date'] = soup.find('span', class_='published').text\n",
    "    output['category'] = soup.find('a', rel = 'category tag').text\n",
    "    output['content'] = soup.find('div', class_= 'entry-content').text.strip().replace('\\n', ' ').replace('\\xa0', ' ')\n",
    "    \n",
    "    return output"
   ]
  },
  {
   "cell_type": "code",
   "execution_count": 31,
   "id": "b2e68b7a",
   "metadata": {},
   "outputs": [
    {
     "data": {
      "text/plain": [
       "{'title': 'Codeup Honored as SABJ Diversity and Inclusion Award Winner',\n",
       " 'date': 'Oct 7, 2022',\n",
       " 'category': 'Codeup News',\n",
       " 'content': 'Codeup has been named the 2022 Diversity and Inclusion award winner from the San Antonio Business Journal! We are thrilled to be among those that take pride in ensuring that diversity, equity, and inclusion (DEI) are priorities in our work environments. To learn more about our efforts, please check out our DEI Report for 2022!'}"
      ]
     },
     "execution_count": 31,
     "metadata": {},
     "output_type": "execute_result"
    }
   ],
   "source": [
    "#Test function\n",
    "parse_blog(url2)"
   ]
  },
  {
   "cell_type": "code",
   "execution_count": 32,
   "id": "dd30efab",
   "metadata": {},
   "outputs": [],
   "source": [
    "## Create a function that can scrape articles from the codeup blog page and return a list of dictionaries\n",
    "\n",
    "def get_blog_articles(urls):\n",
    "    \"\"\"\n",
    "    This function takes in a list of urls for Codeup blog articles. It loops through each, and uses the parse_blog() function to get the title,\n",
    "    publishing date, category, and article content and create a dictionaries that are placed into a list. It returns a list of dictionaries.\n",
    "    \"\"\"\n",
    "  \n",
    "    output = []\n",
    "    \n",
    "    for url in urls:\n",
    "        output.append(parse_blog(url))\n",
    "    \n",
    "    return output\n",
    "    "
   ]
  },
  {
   "cell_type": "code",
   "execution_count": 33,
   "id": "08fd2f49",
   "metadata": {},
   "outputs": [
    {
     "data": {
      "text/plain": [
       "['https://codeup.com/codeup-news/dei-report/',\n",
       " 'https://codeup.com/codeup-news/diversity-and-inclusion-award/',\n",
       " 'https://codeup.com/featured/financing-career-transition/',\n",
       " 'https://codeup.com/tips-for-prospective-students/tips-for-women/',\n",
       " 'https://codeup.com/cloud-administration/cloud-computing-and-aws/']"
      ]
     },
     "execution_count": 33,
     "metadata": {},
     "output_type": "execute_result"
    }
   ],
   "source": [
    "# Define my list of urls\n",
    "urls = [url1, url2, url3, url4, url5]\n",
    "urls"
   ]
  },
  {
   "cell_type": "code",
   "execution_count": 34,
   "id": "34496adc",
   "metadata": {},
   "outputs": [
    {
     "data": {
      "text/plain": [
       "[{'title': 'Diversity Equity and Inclusion Report',\n",
       "  'date': 'Oct 7, 2022',\n",
       "  'category': 'Codeup News',\n",
       "  'content': 'Codeup is excited to launch our first Diversity Equity, and Inclusion (DEI) report! In over eight years as an organization, we’ve implemented policies and grown our DEI efforts. We are extremely proud of the progress we’ve made as a staff and Codeup community, and we recognize there is more to learn. This report captures some of the ways that we’ve lived our value of Cultivating Inclusive Growth, and how we will continue doing so as we look to the future. We wanted to shine a light on the demographics of our students and staff, and in particular how that compares to the tech industry as a whole. How we collect, organize, and share employee demographic data is informed by standards set by the Equal Employment Opportunity Commission (EEOC). We are proud to celebrate how we’ve grown and are motivated and committed to do more and be better. To view the report visit the link here, or download it below.'},\n",
       " {'title': 'Codeup Honored as SABJ Diversity and Inclusion Award Winner',\n",
       "  'date': 'Oct 7, 2022',\n",
       "  'category': 'Codeup News',\n",
       "  'content': 'Codeup has been named the 2022 Diversity and Inclusion award winner from the San Antonio Business Journal! We are thrilled to be among those that take pride in ensuring that diversity, equity, and inclusion (DEI) are priorities in our work environments. To learn more about our efforts, please check out our DEI Report for 2022!'},\n",
       " {'title': 'How Can I Finance My Career Transition?',\n",
       "  'date': 'Sep 29, 2022',\n",
       "  'category': 'Cloud Administration',\n",
       "  'content': 'Deciding to transition into a tech career is a big step and a more significant commitment. Often after deciding to commit to a journey of this nature, the main obstacle is finding a way to finance your training. At Codeup, we recognize that many of our students are career transitioners, and attending one of our programs can sometimes require sacrifice. Luckily, we have several ways to help you finance your career transition, ultimately leading to that new career you’ve decided to pursue. Programs We offer three different accelerated coding bootcamps at Codeup including Full-Stack Web Development, Cloud Administration, and Data Science. These are all instructor-led and designed to quickly equip you with the skills and knowledge to secure an entry-level position in-field. Getting Started For all of our programs, a $1,000 deposit one week before a student’s first day of class is all we require in order to solidify a seat in the starting cohort. Payment Options Finding a payment option that suits your needs is feasible with our different financing options.  Self-Pay: If you opt to pay out of pocket, 50% of the balance will be due on the first day of class, and the remaining 50% will be due 30 days after the first day of class Loans: We have three loan partners that offer flexible repayment, including no payments until 6 months after graduating from our program! Grants: With multiple options available, our grant partners will work to help you find aid to offset the cost of attendance Scholarships: We offer seven different internal scholarships, including Women in Tech, Annie Easley, Minorities in Tech, Pride, Veterans, First-Responders and Covid-19 Relief. VA Benefits: We proudly accept VA benefits as a form of payment for veterans looking to transition to a career in tech. Our Dallas campus specifically accepts VET TEC, and our San Antonio campus accepts VET TEC, GI Bill®/Chapter 33, VRRAP, and Vocational Rehabilitation.  Find a complete breakdown by campus of all of our financial aid options here. If you’re interested in jumpstarting your career in tech with Codeup, apply today and chat with someone from our admissions or financial aid team to get you setup in an upcoming cohort! If you aren’t quite ready to apply, click here to request more information on our programs, and we’ll help you decide which direction is best for you.'},\n",
       " {'title': 'Tips for Women Beginning a Career in Tech',\n",
       "  'date': 'Sep 23, 2022',\n",
       "  'category': 'Tips for Prospective Students',\n",
       "  'content': 'Codeup strongly values diversity, and inclusion. In honor of American Business Women’s Day, we’d like to share eight tips and pieces of advice from Codeup’s women in tech for women looking to begin their careers in tech!  “Be confident in what you’re saying. If you’re speaking it’s because you have something to say.” “Don’t over apologize (I do this way too often).” “Be open and willing to speak up to your colleagues on how they can be supportive to everyone in the environment.” “Band with other women to support each other on y’alls journey.” “Find a mentor (and don’t limit yourself to just women mentors, as there aren’t many out there). A mentor can help you establish your career goals, navigate your journey, provide emotional support or motivation, and ultimately help you succeed.” “Do not dismiss or shrug off “humor.” Call out racist, sexist, ableist, etc., comments. Stop letting work colleagues get away with bad behavior. Do this quickly, so it isn’t something that continues to happen.” “Don’t be afraid to ask questions. The other three guys that were hired at the same time as I was NEVER asked any questions, but it turns out they were just as lost as I was. Once I started asking questions in our training meetings, they all started asking away as well! I thought they all understood what was going on, and being the only female in the group, I didn’t want to stick out. This had been holding me back. Instead of being afraid that you will come off as “not getting it”, you will instead hear “That’s a really good question!” or “I’m glad you asked that!”.” “We belong here. Remind yourself of that when you doubt yourself. Because you will. I did. But I belong. And you do, too. So say it like a mantra – I belong here. And believe it.”  Codeup works hard to close the gender inequality gap, and to diversify the tech world by producing a unique blend of tech talent. We also offer a Women in Tech scholarship open to anyone who identifies as a woman. Our goal is to make a career in tech accessible to all. Join us on our journey of empowering women in tech today! Apply or request more information on our programs to jumpstart your career in tech.'},\n",
       " {'title': 'What is Cloud Computing and AWS?',\n",
       "  'date': 'Sep 13, 2022',\n",
       "  'category': 'Cloud Administration',\n",
       "  'content': 'With many companies switching to cloud services and implementing cloud infrastructure in their practices, many of us may be wondering…what is cloud computing, and what is AWS? Hopefully, this beginner-friendly guide will answer these questions and give you a foundational understanding of AWS and how cloud infrastructure differs from traditional IT. What is cloud computing? Cloud computing is data hosted via the internet by an independent party. This independent party extends its infrastructure to customers with a pay-as-you-go pricing model. Cloud Service Providers Recently, more organizations have given up physical data centers and are transitioning to the Cloud for their needs. The following are the top Cloud Infrastructure Services providers in 2022:  Amazon Web Services (AWS) Microsoft Azure Google Cloud Platform (GCP)  AWS| Amazon Web Services At Codeup, our Cloud Administration program curriculum focuses on AWS. We prepare students to attempt two certification exams:  AWS Cloud Practitioner Exam AWS Solutions Architect Associate Exam  AWS is the most mature of the cloud service providers, and the lead market provider of cloud services. AWS offers over 200 services, operating globally at a low cost. Cloud-Based Infrastructure vs. Traditional IT Cloud-Based Infrastructure  Select the right resource for your organization based on needs such as power, storage, speed, and network, and easily make adjustments as needed You only pay for what you use Deploying infrastructure globally is easy and achievable in minutes There are no customer costs associated with maintenance, updates, or licensing Security and fault tolerance mechanisms are taken care of by the cloud service provider User data is saved at all times and protected in multiple data centers within a region so in the case of an emergency or disaster, service remains uninterrupted Operating in the cloud is all automated 24/7 trained IT staff is available for customer support  Traditional IT  Organizations will need to acquire and setup servers independently and manually The organization is responsible for maintenance and hardware checkups The organization is responsible for backing up data and setting up a disaster recovery plan An IT staff will need to be hired by the organization When scaling up, it is necessary to acquire more hardware to meet the needs of the organization Scaling up or down is manual and time-consuming Requires a lot of up front capital to purchase the necessary hardware  If you’re interested in jumpstarting your career in tech, and you’re looking into cloud computing our Cloud Administration program may be right for you! Request more information to learn more, and check out some of our 100% free workshops to see if it’s a good fit. When you’re ready, apply to get started on your Codeup journey! We hope to hear from you soon.'}]"
      ]
     },
     "execution_count": 34,
     "metadata": {},
     "output_type": "execute_result"
    }
   ],
   "source": [
    "# Test my final function \n",
    "get_blog_articles(urls)"
   ]
  },
  {
   "cell_type": "code",
   "execution_count": null,
   "id": "33ba8055",
   "metadata": {},
   "outputs": [],
   "source": []
  }
 ],
 "metadata": {
  "kernelspec": {
   "display_name": "Python 3 (ipykernel)",
   "language": "python",
   "name": "python3"
  },
  "language_info": {
   "codemirror_mode": {
    "name": "ipython",
    "version": 3
   },
   "file_extension": ".py",
   "mimetype": "text/x-python",
   "name": "python",
   "nbconvert_exporter": "python",
   "pygments_lexer": "ipython3",
   "version": "3.9.12"
  }
 },
 "nbformat": 4,
 "nbformat_minor": 5
}
