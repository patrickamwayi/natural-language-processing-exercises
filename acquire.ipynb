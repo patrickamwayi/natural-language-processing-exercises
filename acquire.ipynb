{
 "cells": [
  {
   "cell_type": "code",
   "execution_count": 1,
   "id": "59f43bd0",
   "metadata": {},
   "outputs": [],
   "source": [
    "import numpy as np\n",
    "import pandas as pd\n",
    "from requests import get\n",
    "from bs4 import BeautifulSoup\n",
    "from bs4 import BeautifulSoup as soupify"
   ]
  },
  {
   "cell_type": "markdown",
   "id": "dfb3fdce",
   "metadata": {},
   "source": [
    "## Exercise\n",
    "### 1. Codeup Blog Articles\n",
    "\n",
    "### Visit Codeup's Blog and record the urls for at least 5 distinct blog posts. For each post, you should scrape at least the post's title and content.\n",
    "\n",
    "### Encapsulate your work in a function named get_blog_articles that will return a list of dictionaries, with each dictionary representing one article. The shape of each dictionary should look like this:"
   ]
  },
  {
   "cell_type": "code",
   "execution_count": 2,
   "id": "97c2c023",
   "metadata": {},
   "outputs": [
    {
     "data": {
      "text/plain": [
       "{'title': 'the title of the article',\n",
       " 'content': 'the full text content of the article'}"
      ]
     },
     "execution_count": 2,
     "metadata": {},
     "output_type": "execute_result"
    }
   ],
   "source": [
    "{\n",
    "    'title': 'the title of the article',\n",
    "    'content': 'the full text content of the article'\n",
    "}\n"
   ]
  },
  {
   "cell_type": "markdown",
   "id": "81b7cf31",
   "metadata": {},
   "source": [
    "### Plus any additional properties you think might be helpful."
   ]
  },
  {
   "cell_type": "code",
   "execution_count": 3,
   "id": "9334c8f6",
   "metadata": {},
   "outputs": [],
   "source": [
    "#Blog Post URLs\n",
    "url1 = 'https://codeup.com/codeup-news/dei-report/'\n",
    "url2 = 'https://codeup.com/codeup-news/diversity-and-inclusion-award/'\n",
    "url3 = 'https://codeup.com/featured/financing-career-transition/'\n",
    "url4 = 'https://codeup.com/tips-for-prospective-students/tips-for-women/'\n",
    "url5 = 'https://codeup.com/cloud-administration/cloud-computing-and-aws/'\n",
    "url6 = 'https://codeup.com/codeup-news/c-suite-award-stephen-noteboom/'"
   ]
  },
  {
   "cell_type": "markdown",
   "id": "d7cd622a",
   "metadata": {},
   "source": [
    "## Let us work with url1"
   ]
  },
  {
   "cell_type": "code",
   "execution_count": 4,
   "id": "d1ee3c7c",
   "metadata": {},
   "outputs": [
    {
     "data": {
      "text/plain": [
       "'https://codeup.com/codeup-news/dei-report/'"
      ]
     },
     "execution_count": 4,
     "metadata": {},
     "output_type": "execute_result"
    }
   ],
   "source": [
    "#get url1\n",
    "url1"
   ]
  },
  {
   "cell_type": "code",
   "execution_count": 5,
   "id": "a6485d24",
   "metadata": {},
   "outputs": [
    {
     "data": {
      "text/plain": [
       "<Response [200]>"
      ]
     },
     "execution_count": 5,
     "metadata": {},
     "output_type": "execute_result"
    }
   ],
   "source": [
    "headers = {'User-Agent': 'Codeup Data Science'}\n",
    "response = get(url1, headers=headers)\n",
    "response"
   ]
  },
  {
   "cell_type": "code",
   "execution_count": 6,
   "id": "0eed7cdd",
   "metadata": {},
   "outputs": [
    {
     "name": "stdout",
     "output_type": "stream",
     "text": [
      "<!DOCTYPE html>\n",
      "<html lang=\"en-US\">\n",
      "<head>\n",
      "\t<meta charset=\"UTF-8\" />\n",
      "<meta http-equiv=\"X-UA-Compatible\" content=\"IE=edge\">\n",
      "\t<link rel=\"pingback\" href=\"https://codeup.com/xmlrpc.php\" />\n",
      "\n",
      "\t<script type=\"text/javascript\">\n",
      "\t\tdocument.documentElement.className = 'js';\n",
      "\t</script>\n",
      "\t\n",
      "\t<link rel=\"preconnect\" href=\"https://fonts.gstatic.com\" crossorigin /><script id=\"diviarea-loader\">window.DiviPopupData=wi\n"
     ]
    }
   ],
   "source": [
    "#let's take a look at sanity check\n",
    "print(response.text[:400])"
   ]
  },
  {
   "cell_type": "code",
   "execution_count": 7,
   "id": "b93715c2",
   "metadata": {},
   "outputs": [],
   "source": [
    "# make a soup:\n",
    "# recipe:\n",
    "# call BeautifulSoup on the content of our response\n",
    "soup = BeautifulSoup(response.content, 'html.parser')"
   ]
  },
  {
   "cell_type": "code",
   "execution_count": 8,
   "id": "3485d8bd",
   "metadata": {},
   "outputs": [],
   "source": [
    "# If we look at soup, its of the same structure as the text, but a little cleaner\n",
    "# and furthermore, its a new object -- a BeautifulSoup object\n",
    "# soup"
   ]
  },
  {
   "cell_type": "code",
   "execution_count": 9,
   "id": "222d378c",
   "metadata": {},
   "outputs": [
    {
     "data": {
      "text/plain": [
       "'Diversity Equity and Inclusion Report'"
      ]
     },
     "execution_count": 9,
     "metadata": {},
     "output_type": "execute_result"
    }
   ],
   "source": [
    "# let us get title of the article for url1\n",
    "title = soup.find('h1', class_='entry-title').text\n",
    "title"
   ]
  },
  {
   "cell_type": "code",
   "execution_count": 10,
   "id": "aa642a5c",
   "metadata": {},
   "outputs": [
    {
     "data": {
      "text/plain": [
       "'Oct 7, 2022'"
      ]
     },
     "execution_count": 10,
     "metadata": {},
     "output_type": "execute_result"
    }
   ],
   "source": [
    "# what date was it published?\n",
    "date = soup.find('span', class_='published').text\n",
    "date"
   ]
  },
  {
   "cell_type": "code",
   "execution_count": 11,
   "id": "bcc80d40",
   "metadata": {},
   "outputs": [
    {
     "data": {
      "text/plain": [
       "'Codeup News'"
      ]
     },
     "execution_count": 11,
     "metadata": {},
     "output_type": "execute_result"
    }
   ],
   "source": [
    "# what is the category of the article?\n",
    "category = soup.find('a', rel = 'category tag').text\n",
    "category"
   ]
  },
  {
   "cell_type": "code",
   "execution_count": 12,
   "id": "9065776c",
   "metadata": {},
   "outputs": [
    {
     "data": {
      "text/plain": [
       "'Codeup is excited to launch our first Diversity Equity, and Inclusion (DEI) report! In over eight years as an organization, we’ve implemented policies and grown our DEI efforts. We are extremely proud of the progress we’ve made as a staff and Codeup community, and we recognize there is more to learn. This report captures some of the ways that we’ve lived our value of Cultivating Inclusive Growth, and how we will continue doing so as we look to the future. We wanted to shine a light on the demographics of our students and staff, and in particular how that compares to the tech industry as a whole. How we collect, organize, and share employee demographic data is informed by standards set by the Equal Employment Opportunity Commission (EEOC). We are proud to celebrate how we’ve grown and are motivated and committed to do more and be better. To view the report visit the link here, or download it below.'"
      ]
     },
     "execution_count": 12,
     "metadata": {},
     "output_type": "execute_result"
    }
   ],
   "source": [
    "# let us take a look at the content of the article \n",
    "content = soup.find('div', class_= 'entry-content').text.strip().replace('\\n', ' ')\n",
    "content"
   ]
  },
  {
   "cell_type": "code",
   "execution_count": 13,
   "id": "66d64a70",
   "metadata": {},
   "outputs": [],
   "source": [
    "# now let us create a function that creates a dictionary out of a codeup blog page url\n",
    "\n",
    "def parse_blog(url):\n",
    "    url = url\n",
    "    #establish header\n",
    "    headers = {'User-Agent': 'Codeup Data Science'}\n",
    "    response = get(url, headers=headers)\n",
    "    \n",
    "    # Make a soup variable holding the response content\n",
    "    soup = BeautifulSoup(response.content, 'html.parser')\n",
    "    \n",
    "    output = {}\n",
    "    output['title'] = soup.find('h1', class_='entry-title').text\n",
    "    output['date'] = soup.find('span', class_='published').text\n",
    "    output['category'] = soup.find('a', rel = 'category tag').text\n",
    "    output['content'] = soup.find('div', class_= 'entry-content').text.strip().replace('\\n', ' ').replace('\\xa0', ' ')\n",
    "    \n",
    "    return output"
   ]
  },
  {
   "cell_type": "code",
   "execution_count": 14,
   "id": "5ec471da",
   "metadata": {},
   "outputs": [
    {
     "data": {
      "text/plain": [
       "{'title': 'How Can I Finance My Career Transition?',\n",
       " 'date': 'Sep 29, 2022',\n",
       " 'category': 'Cloud Administration',\n",
       " 'content': 'Deciding to transition into a tech career is a big step and a more significant commitment. Often after deciding to commit to a journey of this nature, the main obstacle is finding a way to finance your training. At Codeup, we recognize that many of our students are career transitioners, and attending one of our programs can sometimes require sacrifice. Luckily, we have several ways to help you finance your career transition, ultimately leading to that new career you’ve decided to pursue. Programs We offer three different accelerated coding bootcamps at Codeup including Full-Stack Web Development, Cloud Administration, and Data Science. These are all instructor-led and designed to quickly equip you with the skills and knowledge to secure an entry-level position in-field. Getting Started For all of our programs, a $1,000 deposit one week before a student’s first day of class is all we require in order to solidify a seat in the starting cohort. Payment Options Finding a payment option that suits your needs is feasible with our different financing options.  Self-Pay: If you opt to pay out of pocket, 50% of the balance will be due on the first day of class, and the remaining 50% will be due 30 days after the first day of class Loans: We have three loan partners that offer flexible repayment, including no payments until 6 months after graduating from our program! Grants: With multiple options available, our grant partners will work to help you find aid to offset the cost of attendance Scholarships: We offer seven different internal scholarships, including Women in Tech, Annie Easley, Minorities in Tech, Pride, Veterans, First-Responders and Covid-19 Relief. VA Benefits: We proudly accept VA benefits as a form of payment for veterans looking to transition to a career in tech. Our Dallas campus specifically accepts VET TEC, and our San Antonio campus accepts VET TEC, GI Bill®/Chapter 33, VRRAP, and Vocational Rehabilitation.  Find a complete breakdown by campus of all of our financial aid options here. If you’re interested in jumpstarting your career in tech with Codeup, apply today and chat with someone from our admissions or financial aid team to get you setup in an upcoming cohort! If you aren’t quite ready to apply, click here to request more information on our programs, and we’ll help you decide which direction is best for you.'}"
      ]
     },
     "execution_count": 14,
     "metadata": {},
     "output_type": "execute_result"
    }
   ],
   "source": [
    "#now let us test the function on url3\n",
    "parse_blog(url3)"
   ]
  },
  {
   "cell_type": "code",
   "execution_count": 15,
   "id": "90155731",
   "metadata": {},
   "outputs": [],
   "source": [
    "# this function scrapes articles from codeup blog page and returns a list of dictionaries\n",
    "\n",
    "def get_blog_articles(urls):\n",
    "    \"\"\"\n",
    "    This function takes in a list of urls for Codeup blog articles. It loops through each, and uses the parse_blog() function to get the title,\n",
    "    publishing date, category, and article content and create a dictionaries that are placed into a list. It returns a list of dictionaries.\n",
    "    \"\"\"\n",
    "  \n",
    "    output = []\n",
    "    \n",
    "    for url in urls:\n",
    "        output.append(parse_blog(url))\n",
    "    \n",
    "    return output"
   ]
  },
  {
   "cell_type": "code",
   "execution_count": 16,
   "id": "2c5c6936",
   "metadata": {},
   "outputs": [
    {
     "data": {
      "text/plain": [
       "['https://codeup.com/codeup-news/dei-report/',\n",
       " 'https://codeup.com/codeup-news/diversity-and-inclusion-award/',\n",
       " 'https://codeup.com/featured/financing-career-transition/',\n",
       " 'https://codeup.com/tips-for-prospective-students/tips-for-women/',\n",
       " 'https://codeup.com/cloud-administration/cloud-computing-and-aws/',\n",
       " 'https://codeup.com/codeup-news/c-suite-award-stephen-noteboom/']"
      ]
     },
     "execution_count": 16,
     "metadata": {},
     "output_type": "execute_result"
    }
   ],
   "source": [
    "# now let us define list of urls\n",
    "urls = [url1, url2, url3, url4, url5, url6]\n",
    "urls"
   ]
  },
  {
   "cell_type": "code",
   "execution_count": 17,
   "id": "c2034538",
   "metadata": {},
   "outputs": [
    {
     "data": {
      "text/plain": [
       "[{'title': 'Diversity Equity and Inclusion Report',\n",
       "  'date': 'Oct 7, 2022',\n",
       "  'category': 'Codeup News',\n",
       "  'content': 'Codeup is excited to launch our first Diversity Equity, and Inclusion (DEI) report! In over eight years as an organization, we’ve implemented policies and grown our DEI efforts. We are extremely proud of the progress we’ve made as a staff and Codeup community, and we recognize there is more to learn. This report captures some of the ways that we’ve lived our value of Cultivating Inclusive Growth, and how we will continue doing so as we look to the future. We wanted to shine a light on the demographics of our students and staff, and in particular how that compares to the tech industry as a whole. How we collect, organize, and share employee demographic data is informed by standards set by the Equal Employment Opportunity Commission (EEOC). We are proud to celebrate how we’ve grown and are motivated and committed to do more and be better. To view the report visit the link here, or download it below.'},\n",
       " {'title': 'Codeup Honored as SABJ Diversity and Inclusion Award Winner',\n",
       "  'date': 'Oct 7, 2022',\n",
       "  'category': 'Codeup News',\n",
       "  'content': 'Codeup has been named the 2022 Diversity and Inclusion award winner from the San Antonio Business Journal! We are thrilled to be among those that take pride in ensuring that diversity, equity, and inclusion (DEI) are priorities in our work environments. To learn more about our efforts, please check out our DEI Report for 2022!'},\n",
       " {'title': 'How Can I Finance My Career Transition?',\n",
       "  'date': 'Sep 29, 2022',\n",
       "  'category': 'Cloud Administration',\n",
       "  'content': 'Deciding to transition into a tech career is a big step and a more significant commitment. Often after deciding to commit to a journey of this nature, the main obstacle is finding a way to finance your training. At Codeup, we recognize that many of our students are career transitioners, and attending one of our programs can sometimes require sacrifice. Luckily, we have several ways to help you finance your career transition, ultimately leading to that new career you’ve decided to pursue. Programs We offer three different accelerated coding bootcamps at Codeup including Full-Stack Web Development, Cloud Administration, and Data Science. These are all instructor-led and designed to quickly equip you with the skills and knowledge to secure an entry-level position in-field. Getting Started For all of our programs, a $1,000 deposit one week before a student’s first day of class is all we require in order to solidify a seat in the starting cohort. Payment Options Finding a payment option that suits your needs is feasible with our different financing options.  Self-Pay: If you opt to pay out of pocket, 50% of the balance will be due on the first day of class, and the remaining 50% will be due 30 days after the first day of class Loans: We have three loan partners that offer flexible repayment, including no payments until 6 months after graduating from our program! Grants: With multiple options available, our grant partners will work to help you find aid to offset the cost of attendance Scholarships: We offer seven different internal scholarships, including Women in Tech, Annie Easley, Minorities in Tech, Pride, Veterans, First-Responders and Covid-19 Relief. VA Benefits: We proudly accept VA benefits as a form of payment for veterans looking to transition to a career in tech. Our Dallas campus specifically accepts VET TEC, and our San Antonio campus accepts VET TEC, GI Bill®/Chapter 33, VRRAP, and Vocational Rehabilitation.  Find a complete breakdown by campus of all of our financial aid options here. If you’re interested in jumpstarting your career in tech with Codeup, apply today and chat with someone from our admissions or financial aid team to get you setup in an upcoming cohort! If you aren’t quite ready to apply, click here to request more information on our programs, and we’ll help you decide which direction is best for you.'},\n",
       " {'title': 'Tips for Women Beginning a Career in Tech',\n",
       "  'date': 'Sep 23, 2022',\n",
       "  'category': 'Tips for Prospective Students',\n",
       "  'content': 'Codeup strongly values diversity, and inclusion. In honor of American Business Women’s Day, we’d like to share eight tips and pieces of advice from Codeup’s women in tech for women looking to begin their careers in tech!  “Be confident in what you’re saying. If you’re speaking it’s because you have something to say.” “Don’t over apologize (I do this way too often).” “Be open and willing to speak up to your colleagues on how they can be supportive to everyone in the environment.” “Band with other women to support each other on y’alls journey.” “Find a mentor (and don’t limit yourself to just women mentors, as there aren’t many out there). A mentor can help you establish your career goals, navigate your journey, provide emotional support or motivation, and ultimately help you succeed.” “Do not dismiss or shrug off “humor.” Call out racist, sexist, ableist, etc., comments. Stop letting work colleagues get away with bad behavior. Do this quickly, so it isn’t something that continues to happen.” “Don’t be afraid to ask questions. The other three guys that were hired at the same time as I was NEVER asked any questions, but it turns out they were just as lost as I was. Once I started asking questions in our training meetings, they all started asking away as well! I thought they all understood what was going on, and being the only female in the group, I didn’t want to stick out. This had been holding me back. Instead of being afraid that you will come off as “not getting it”, you will instead hear “That’s a really good question!” or “I’m glad you asked that!”.” “We belong here. Remind yourself of that when you doubt yourself. Because you will. I did. But I belong. And you do, too. So say it like a mantra – I belong here. And believe it.”  Codeup works hard to close the gender inequality gap, and to diversify the tech world by producing a unique blend of tech talent. We also offer a Women in Tech scholarship open to anyone who identifies as a woman. Our goal is to make a career in tech accessible to all. Join us on our journey of empowering women in tech today! Apply or request more information on our programs to jumpstart your career in tech.'},\n",
       " {'title': 'What is Cloud Computing and AWS?',\n",
       "  'date': 'Sep 13, 2022',\n",
       "  'category': 'Cloud Administration',\n",
       "  'content': 'With many companies switching to cloud services and implementing cloud infrastructure in their practices, many of us may be wondering…what is cloud computing, and what is AWS? Hopefully, this beginner-friendly guide will answer these questions and give you a foundational understanding of AWS and how cloud infrastructure differs from traditional IT. What is cloud computing? Cloud computing is data hosted via the internet by an independent party. This independent party extends its infrastructure to customers with a pay-as-you-go pricing model. Cloud Service Providers Recently, more organizations have given up physical data centers and are transitioning to the Cloud for their needs. The following are the top Cloud Infrastructure Services providers in 2022:  Amazon Web Services (AWS) Microsoft Azure Google Cloud Platform (GCP)  AWS| Amazon Web Services At Codeup, our Cloud Administration program curriculum focuses on AWS. We prepare students to attempt two certification exams:  AWS Cloud Practitioner Exam AWS Solutions Architect Associate Exam  AWS is the most mature of the cloud service providers, and the lead market provider of cloud services. AWS offers over 200 services, operating globally at a low cost. Cloud-Based Infrastructure vs. Traditional IT Cloud-Based Infrastructure  Select the right resource for your organization based on needs such as power, storage, speed, and network, and easily make adjustments as needed You only pay for what you use Deploying infrastructure globally is easy and achievable in minutes There are no customer costs associated with maintenance, updates, or licensing Security and fault tolerance mechanisms are taken care of by the cloud service provider User data is saved at all times and protected in multiple data centers within a region so in the case of an emergency or disaster, service remains uninterrupted Operating in the cloud is all automated 24/7 trained IT staff is available for customer support  Traditional IT  Organizations will need to acquire and setup servers independently and manually The organization is responsible for maintenance and hardware checkups The organization is responsible for backing up data and setting up a disaster recovery plan An IT staff will need to be hired by the organization When scaling up, it is necessary to acquire more hardware to meet the needs of the organization Scaling up or down is manual and time-consuming Requires a lot of up front capital to purchase the necessary hardware  If you’re interested in jumpstarting your career in tech, and you’re looking into cloud computing our Cloud Administration program may be right for you! Request more information to learn more, and check out some of our 100% free workshops to see if it’s a good fit. When you’re ready, apply to get started on your Codeup journey! We hope to hear from you soon.'},\n",
       " {'title': '2022 SABJ C-Suite Award Winner: Stephen Noteboom',\n",
       "  'date': 'Sep 9, 2022',\n",
       "  'category': 'Codeup News',\n",
       "  'content': 'Codeup’s Chief Operating Officer, Stephen Noteboom has won the 2022 San Antonio Business Journal’s C-Suite Award! This award recognizes Stephen as a top C-Suite leader in San Antonio, TX, and we couldn’t be more proud. Stephen has been with Codeup for a year and a half, and has been nothing short of a great COO. We are so excited to share in such a fantastic accomplishment, and we will continue to strive for excellence going forward. Congratulations Stephen!'}]"
      ]
     },
     "execution_count": 17,
     "metadata": {},
     "output_type": "execute_result"
    }
   ],
   "source": [
    "# now we can test final function \n",
    "get_blog_articles(urls)"
   ]
  },
  {
   "cell_type": "markdown",
   "id": "88611e94",
   "metadata": {},
   "source": [
    "## 2. News Articles\n",
    "\n",
    "### We will now be scraping text data from inshorts, a website that provides a brief overview of many different topics.\n",
    "\n",
    "### Write a function that scrapes the news articles for the following topics:\n",
    "\n",
    "- Business\n",
    "- Sports\n",
    "- Technology\n",
    "- Entertainment The end product of this should be a function named get_news_articles that returns a list of dictionaries, where each dictionary has this shape:"
   ]
  },
  {
   "cell_type": "code",
   "execution_count": 27,
   "id": "63c0f61b",
   "metadata": {},
   "outputs": [
    {
     "data": {
      "text/plain": [
       "{'title': 'The article title',\n",
       " 'content': 'The article content',\n",
       " 'category': 'business'}"
      ]
     },
     "execution_count": 27,
     "metadata": {},
     "output_type": "execute_result"
    }
   ],
   "source": [
    "{\n",
    "    'title': 'The article title',\n",
    "    'content': 'The article content',\n",
    "    'category': 'business' \n",
    "}"
   ]
  },
  {
   "cell_type": "code",
   "execution_count": 28,
   "id": "d9d42c68",
   "metadata": {},
   "outputs": [],
   "source": [
    "#let's define news category url\n",
    "url1 = 'https://inshorts.com/en/read'"
   ]
  },
  {
   "cell_type": "code",
   "execution_count": 29,
   "id": "e2d0043d",
   "metadata": {},
   "outputs": [],
   "source": [
    "soup = soupify(get(url1).content)"
   ]
  },
  {
   "cell_type": "code",
   "execution_count": 30,
   "id": "0e7a5430",
   "metadata": {},
   "outputs": [
    {
     "data": {
      "text/plain": [
       "'india'"
      ]
     },
     "execution_count": 30,
     "metadata": {},
     "output_type": "execute_result"
    }
   ],
   "source": [
    "#Find the title of the first article on the page\n",
    "soup.find_all('li')[1].text.lower()"
   ]
  },
  {
   "cell_type": "code",
   "execution_count": 31,
   "id": "03ec67c2",
   "metadata": {},
   "outputs": [
    {
     "data": {
      "text/plain": [
       "'https://inshorts.com/en/read/india'"
      ]
     },
     "execution_count": 31,
     "metadata": {},
     "output_type": "execute_result"
    }
   ],
   "source": [
    "# try concatenation:\n",
    "url1 + '/' + soup.find_all('li')[1].text.lower()"
   ]
  },
  {
   "cell_type": "code",
   "execution_count": 32,
   "id": "a24fd0d2",
   "metadata": {},
   "outputs": [],
   "source": [
    "def get_cats(base_url):\n",
    "    soup = soupify(get(base_url).content)\n",
    "    return [cat.text.lower() for cat in soup.find_all('li')[1:]]"
   ]
  },
  {
   "cell_type": "code",
   "execution_count": 34,
   "id": "b3501129",
   "metadata": {},
   "outputs": [
    {
     "data": {
      "text/plain": [
       "['india',\n",
       " 'business',\n",
       " 'sports',\n",
       " 'world',\n",
       " 'politics',\n",
       " 'technology',\n",
       " 'startup',\n",
       " 'entertainment',\n",
       " 'miscellaneous',\n",
       " 'hatke',\n",
       " 'science',\n",
       " 'automobile']"
      ]
     },
     "execution_count": 34,
     "metadata": {},
     "output_type": "execute_result"
    }
   ],
   "source": [
    "get_cats(url1)"
   ]
  },
  {
   "cell_type": "code",
   "execution_count": 37,
   "id": "26bb30ad",
   "metadata": {},
   "outputs": [],
   "source": [
    "# lets make a first go of everything\n",
    "cat_url1 = url1 + '/' + 'science'"
   ]
  },
  {
   "cell_type": "code",
   "execution_count": 38,
   "id": "90fe7db1",
   "metadata": {},
   "outputs": [],
   "source": [
    "cat_soup = soupify(get(cat_url1).content)"
   ]
  },
  {
   "cell_type": "code",
   "execution_count": 39,
   "id": "e4a2ca10",
   "metadata": {},
   "outputs": [
    {
     "data": {
      "text/plain": [
       "'New species of beetle named after Novak Djokovic'"
      ]
     },
     "execution_count": 39,
     "metadata": {},
     "output_type": "execute_result"
    }
   ],
   "source": [
    "#let's find the title of the first article on the page\n",
    "cat_soup.find_all('span', itemprop='headline')[0].text"
   ]
  },
  {
   "cell_type": "code",
   "execution_count": 41,
   "id": "30c06edf",
   "metadata": {},
   "outputs": [
    {
     "data": {
      "text/plain": [
       "['New species of beetle named after Novak Djokovic',\n",
       " \"Scientists map 'graveyard of stars' in our galaxy for the 1st time, pics released\",\n",
       " 'Toxic air pollution particles found in lungs, brains of unborn babies for the first time',\n",
       " 'Orcas caught chasing, killing great white shark on video for the first time',\n",
       " 'Microplastics found in human breast milk for the first time',\n",
       " 'Asteroid hit by NASA leaves 10,000 km trail of debris; pic surfaces',\n",
       " 'You have 50 mins until your life changes: Nobel Committee to winner at 1:53 am',\n",
       " \"NASA releases new pic of Jupiter's ice-covered moon Europa captured by Juno\",\n",
       " \"Material coming out of black hole is like nothing we've ever seen: Scientists\",\n",
       " \"Pics show aerial view of US' Florida before and after Hurricane Ian's approach\",\n",
       " \"Asteroid's path altered after NASA deliberately crashes spacecraft into it\",\n",
       " 'SpaceX & NASA launch crew of 4, including a Russian cosmonaut, to ISS',\n",
       " 'SpaceX launches 52 Starlink satellites hours after launching Crew-5 mission',\n",
       " \"Scientists discover new function of human brain's cerebellum\",\n",
       " 'Reflections from Mars not caused due to water: Scientists',\n",
       " 'Fossil of cat-sized reptile, an early relative of flying reptile, found in Scotland',\n",
       " \"'Cataclysmic' pair of stars that orbit each other in less than an hour discovered\",\n",
       " 'Indian space economy to reach $13 bn by 2025: Report',\n",
       " \"New supercontinent 'Amasia' will be created as Pacific ocean shrinks: Study\",\n",
       " 'Video games could trigger heart attack in kids with cardiac problems: Study',\n",
       " 'Draconid meteor shower set to light up skies on October 9 &10',\n",
       " '1st solar observatory to solve mystery of Sun’s eruptions launched by China',\n",
       " 'Thirdhand smoke can trigger skin diseases: Study',\n",
       " 'Broccoli gas can help in finding life on other planets: Scientists',\n",
       " 'NASA’s Dragonfly to land on dunes & shattered ice on Saturn’s moon in 2034']"
      ]
     },
     "execution_count": 41,
     "metadata": {},
     "output_type": "execute_result"
    }
   ],
   "source": [
    "cat_titles = [title.text for title in cat_soup.find_all('span', itemprop='headline')]\n",
    "cat_titles"
   ]
  },
  {
   "cell_type": "code",
   "execution_count": 43,
   "id": "4ea8f9eb",
   "metadata": {},
   "outputs": [
    {
     "data": {
      "text/plain": [
       "'Serbian scientists named a new species of beetle after ex-world number one men\\'s tennis player Novak Djokovic. The insect, which belongs to Duvalius genus of ground beetles present in Europe and was discovered several years ago in underground pit in Serbia, has been named \\'Duvalius djokovici\\'. \"We feel urged to pay Djokovic back in...way we can,\" a researcher said.'"
      ]
     },
     "execution_count": 43,
     "metadata": {},
     "output_type": "execute_result"
    }
   ],
   "source": [
    "#let's check article's body\n",
    "cat_soup.find_all('div', itemprop='articleBody')[0].text"
   ]
  },
  {
   "cell_type": "code",
   "execution_count": 45,
   "id": "039ac9bb",
   "metadata": {},
   "outputs": [],
   "source": [
    "# let's create a function that creates a dictionary out all the articles on a single page \n",
    "\n",
    "def get_all_shorts(base_url):\n",
    "    cats = get_cats(base_url)\n",
    "    all_articles = []\n",
    "    for cat in cats:\n",
    "        cat_url = base_url + '/' + cat\n",
    "        print(get(cat_url))\n",
    "        cat_soup = soupify(get(cat_url).content)\n",
    "        cat_titles = [\n",
    "            title.text for title in cat_soup.find_all('span', itemprop='headline')\n",
    "        ]\n",
    "        cat_bodies = [\n",
    "            body.text for body in cat_soup.find_all('div', itemprop='articleBody')]\n",
    "        cat_articles = [{'title': title,\n",
    "        'category': cat,\n",
    "        'body': body} for title, body in zip(\n",
    "        cat_titles, cat_bodies)]\n",
    "        print('cat articles length: ',len(cat_articles))\n",
    "        all_articles.extend(cat_articles)\n",
    "        print('length of all_articles: ', len(all_articles))\n",
    "    return all_articles\n",
    "        "
   ]
  },
  {
   "cell_type": "code",
   "execution_count": 47,
   "id": "45f26a76",
   "metadata": {},
   "outputs": [
    {
     "name": "stdout",
     "output_type": "stream",
     "text": [
      "<Response [200]>\n",
      "cat articles length:  12\n",
      "length of all_articles:  12\n",
      "<Response [200]>\n",
      "cat articles length:  25\n",
      "length of all_articles:  37\n",
      "<Response [200]>\n",
      "cat articles length:  25\n",
      "length of all_articles:  62\n",
      "<Response [200]>\n",
      "cat articles length:  25\n",
      "length of all_articles:  87\n",
      "<Response [200]>\n",
      "cat articles length:  25\n",
      "length of all_articles:  112\n",
      "<Response [200]>\n",
      "cat articles length:  25\n",
      "length of all_articles:  137\n",
      "<Response [200]>\n",
      "cat articles length:  25\n",
      "length of all_articles:  162\n",
      "<Response [200]>\n",
      "cat articles length:  25\n",
      "length of all_articles:  187\n",
      "<Response [200]>\n",
      "cat articles length:  24\n",
      "length of all_articles:  211\n",
      "<Response [200]>\n",
      "cat articles length:  25\n",
      "length of all_articles:  236\n",
      "<Response [200]>\n",
      "cat articles length:  25\n",
      "length of all_articles:  261\n",
      "<Response [200]>\n",
      "cat articles length:  24\n",
      "length of all_articles:  285\n"
     ]
    }
   ],
   "source": [
    "#get all the articles\n",
    "all_articles = get_all_shorts(url1)"
   ]
  },
  {
   "cell_type": "code",
   "execution_count": 48,
   "id": "28cd9216",
   "metadata": {},
   "outputs": [],
   "source": [
    "#get the articles into a DataFrame\n",
    "all_articles = pd.DataFrame(all_articles)"
   ]
  },
  {
   "cell_type": "code",
   "execution_count": 49,
   "id": "08274532",
   "metadata": {},
   "outputs": [
    {
     "data": {
      "text/plain": [
       "business         25\n",
       "sports           25\n",
       "world            25\n",
       "politics         25\n",
       "technology       25\n",
       "startup          25\n",
       "entertainment    25\n",
       "hatke            25\n",
       "science          25\n",
       "miscellaneous    24\n",
       "automobile       24\n",
       "india            12\n",
       "Name: category, dtype: int64"
      ]
     },
     "execution_count": 49,
     "metadata": {},
     "output_type": "execute_result"
    }
   ],
   "source": [
    "#check value counts\n",
    "all_articles.category.value_counts()"
   ]
  },
  {
   "cell_type": "code",
   "execution_count": 50,
   "id": "7de4e265",
   "metadata": {},
   "outputs": [
    {
     "data": {
      "text/plain": [
       "<bound method IndexOpsMixin.value_counts of 0      Afghanistan wins SAFF title, spoils India's ha...\n",
       "1      Nigerian weightlifter in dope net, India may gain\n",
       "2           India beat NZ 3-2 to enter CWG hockey finals\n",
       "3                 India's first Billiards Premier League\n",
       "4              Infosys Gifts Sikka Shares Worth Rs 8.2cr\n",
       "                             ...                        \n",
       "280    Passenger vehicle wholesales rise by 92% in Se...\n",
       "281    Porsche becomes Europe's most valuable automak...\n",
       "282    Fix for wheel issue that caused electric car r...\n",
       "283    Vintage cars on display to promote wildlife pr...\n",
       "284    Tesla delivered record 83,135 China-made EVs i...\n",
       "Name: title, Length: 285, dtype: object>"
      ]
     },
     "execution_count": 50,
     "metadata": {},
     "output_type": "execute_result"
    }
   ],
   "source": [
    "#check value counts by titles\n",
    "all_articles.title.value_counts"
   ]
  }
 ],
 "metadata": {
  "kernelspec": {
   "display_name": "Python 3 (ipykernel)",
   "language": "python",
   "name": "python3"
  },
  "language_info": {
   "codemirror_mode": {
    "name": "ipython",
    "version": 3
   },
   "file_extension": ".py",
   "mimetype": "text/x-python",
   "name": "python",
   "nbconvert_exporter": "python",
   "pygments_lexer": "ipython3",
   "version": "3.9.12"
  }
 },
 "nbformat": 4,
 "nbformat_minor": 5
}
