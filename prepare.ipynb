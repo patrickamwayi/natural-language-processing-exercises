{
 "cells": [
  {
   "cell_type": "code",
   "execution_count": 1,
   "id": "d1bf228b",
   "metadata": {},
   "outputs": [],
   "source": [
    "import pandas as pd\n",
    "import numpy as np\n",
    "\n",
    "import unicodedata\n",
    "import re\n",
    "import os\n",
    "import json\n",
    "import acquire\n",
    "\n",
    "import nltk\n",
    "from nltk.tokenize.toktok import ToktokTokenizer\n",
    "from nltk.corpus import stopwords\n",
    "import warnings\n",
    "warnings.filterwarnings('ignore')"
   ]
  },
  {
   "cell_type": "markdown",
   "id": "dd12210a",
   "metadata": {},
   "source": [
    "## EXERCISE\n",
    "\n",
    "### 1. Define a function named basic_clean. It should take in a string and apply some basic text cleaning to it:\n",
    "\n",
    "- Lowercase everything\n",
    "- Normalize unicode characters\n",
    "- Replace anything that is not a letter, number, whitespace or a single quote.\n"
   ]
  },
  {
   "cell_type": "code",
   "execution_count": 2,
   "id": "ded3f6cf",
   "metadata": {},
   "outputs": [
    {
     "data": {
      "text/plain": [
       "'Serbian scientists named a new species of beetle after ex-world number one men\\'s tennis playerNovak Djokovic. The insect, which belongs to Duvalius genus of ground beetles present in Europe and was discovered several years ago in underground pit in Serbia, has been named \\'Duvalius djokovici\\'.\"We feel urged to pay Djokovic back in...way we can,\" a researcher said.'"
      ]
     },
     "execution_count": 2,
     "metadata": {},
     "output_type": "execute_result"
    }
   ],
   "source": [
    "#original text\n",
    "original = 'Serbian scientists named a new species of beetle after ex-world number one men\\'s tennis player\\\n",
    "Novak Djokovic. The insect, which belongs to Duvalius genus of ground beetles present in Europe and was \\\n",
    "discovered several years ago in underground pit in Serbia, has been named \\'Duvalius djokovici\\'.\\\n",
    "\"We feel urged to pay Djokovic back in...way we can,\" a researcher said.'\n",
    "original"
   ]
  },
  {
   "cell_type": "code",
   "execution_count": 3,
   "id": "5b6b0b7f",
   "metadata": {},
   "outputs": [
    {
     "data": {
      "text/plain": [
       "'serbian scientists named a new species of beetle after ex-world number one men\\'s tennis playernovak djokovic. the insect, which belongs to duvalius genus of ground beetles present in europe and was discovered several years ago in underground pit in serbia, has been named \\'duvalius djokovici\\'.\"we feel urged to pay djokovic back in...way we can,\" a researcher said.'"
      ]
     },
     "execution_count": 3,
     "metadata": {},
     "output_type": "execute_result"
    }
   ],
   "source": [
    "#Lowercase everything\n",
    "article = original.lower()\n",
    "article"
   ]
  },
  {
   "cell_type": "code",
   "execution_count": 4,
   "id": "0380b7ce",
   "metadata": {},
   "outputs": [],
   "source": [
    "#import unicode character database\n",
    "import unicodedata"
   ]
  },
  {
   "cell_type": "code",
   "execution_count": 5,
   "id": "985b1f51",
   "metadata": {},
   "outputs": [
    {
     "data": {
      "text/plain": [
       "'serbian scientists named a new species of beetle after ex-world number one men\\'s tennis playernovak djokovic. the insect, which belongs to duvalius genus of ground beetles present in europe and was discovered several years ago in underground pit in serbia, has been named \\'duvalius djokovici\\'.\"we feel urged to pay djokovic back in...way we can,\" a researcher said.'"
      ]
     },
     "execution_count": 5,
     "metadata": {},
     "output_type": "execute_result"
    }
   ],
   "source": [
    "article = unicodedata.normalize('NFKD', article)\\\n",
    ".encode('ascii', 'ignore')\\\n",
    ".decode('utf-8')\n",
    "\n",
    "article"
   ]
  },
  {
   "cell_type": "code",
   "execution_count": 6,
   "id": "0ee178c8",
   "metadata": {},
   "outputs": [],
   "source": [
    "#import regular expression operations\n",
    "import re"
   ]
  },
  {
   "cell_type": "code",
   "execution_count": 7,
   "id": "88f7b154",
   "metadata": {},
   "outputs": [
    {
     "data": {
      "text/plain": [
       "\"serbian scientists named a new species of beetle after exworld number one men's tennis playernovak djokovic the insect which belongs to duvalius genus of ground beetles present in europe and was discovered several years ago in underground pit in serbia has been named 'duvalius djokovici'we feel urged to pay djokovic back inway we can a researcher said\""
      ]
     },
     "execution_count": 7,
     "metadata": {},
     "output_type": "execute_result"
    }
   ],
   "source": [
    "#use re.sub to remove special characters\n",
    "article = re.sub(r'[^a-z0-9\\'\\s]', '', article)\n",
    "article"
   ]
  },
  {
   "cell_type": "code",
   "execution_count": 8,
   "id": "dc3254b8",
   "metadata": {},
   "outputs": [],
   "source": [
    "def basic_clean(string):\n",
    "    \"\"\"\n",
    "    This function will take in a string and perform basic cleaning procedutes. It will convert all characters\n",
    "    to lower case, remove accented characters using unicode, and remove all special character \n",
    "    and symbols that are not alphanumeric characters.\n",
    "    \"\"\"\n",
    "    \n",
    "    #Convert string to lower case\n",
    "    string = string.lower()\n",
    "    \n",
    "    #Normalize and remove inconsistencies, encode into ascii byte strings and ignore unknown chars,\n",
    "    #decode back into a UTF-8 string\n",
    "    string = unicodedata.normalize('NFKD', string).encode('ascii', 'ignore').decode('UTF-8')\n",
    "    \n",
    "    #Use regex to replace remove/replace all special characters\n",
    "    string = re.sub(r\"[^a-z0-9\\s']\", '', string)\n",
    "    \n",
    "    return string"
   ]
  },
  {
   "cell_type": "code",
   "execution_count": 9,
   "id": "0435eadc",
   "metadata": {},
   "outputs": [
    {
     "data": {
      "text/plain": [
       "\"serbian scientists named a new species of beetle after exworld number one men's tennis playernovak djokovic the insect which belongs to duvalius genus of ground beetles present in europe and was discovered several years ago in underground pit in serbia has been named 'duvalius djokovici'we feel urged to pay djokovic back inway we can a researcher said\""
      ]
     },
     "execution_count": 9,
     "metadata": {},
     "output_type": "execute_result"
    }
   ],
   "source": [
    "basic_clean(original)"
   ]
  },
  {
   "cell_type": "markdown",
   "id": "04c2c0ae",
   "metadata": {},
   "source": [
    "### 2.Define a function named tokenize. It should take in a string and tokenize all the words in the string."
   ]
  },
  {
   "cell_type": "code",
   "execution_count": 10,
   "id": "1f7052dc",
   "metadata": {},
   "outputs": [],
   "source": [
    "#import natural language toolkit\n",
    "import nltk"
   ]
  },
  {
   "cell_type": "code",
   "execution_count": 11,
   "id": "7043dc20",
   "metadata": {},
   "outputs": [],
   "source": [
    "def tokenize(string):\n",
    "    \"\"\"\n",
    "    This function will take in a string, tokenize it and return the \n",
    "    tokenized string.\n",
    "    \"\"\"\n",
    "    #Create the tokenizer\n",
    "    tokenizer = nltk.tokenize.ToktokTokenizer()\n",
    "    \n",
    "    #Use the tokenizer\n",
    "    string = tokenizer.tokenize(string, return_str = True)\n",
    "    \n",
    "    return string"
   ]
  },
  {
   "cell_type": "code",
   "execution_count": 12,
   "id": "55408ed9",
   "metadata": {},
   "outputs": [
    {
     "data": {
      "text/plain": [
       "'Serbian scientists named a new species of beetle after ex-world number one men \\' s tennis playerNovak Djokovic. The insect , which belongs to Duvalius genus of ground beetles present in Europe and was discovered several years ago in underground pit in Serbia , has been named \\' Duvalius djokovici \\' . \" We feel urged to pay Djokovic back in ... way we can , \" a researcher said .'"
      ]
     },
     "execution_count": 12,
     "metadata": {},
     "output_type": "execute_result"
    }
   ],
   "source": [
    "tokenize(original)"
   ]
  },
  {
   "cell_type": "markdown",
   "id": "0fd6cc34",
   "metadata": {},
   "source": [
    "### 3.Define a function named stem. It should accept some text and return the text after applying stemming to all the words."
   ]
  },
  {
   "cell_type": "code",
   "execution_count": 13,
   "id": "90b2443b",
   "metadata": {},
   "outputs": [],
   "source": [
    "def stem(string):\n",
    "    \"\"\"\n",
    "    This function will take in a string return a stemmed version of the string.\n",
    "    \"\"\"\n",
    "    \n",
    "    #Create the stemmer\n",
    "    ps = nltk.porter.PorterStemmer()\n",
    "    \n",
    "    #Apply the stemmer to each word in the string and create a list of stemmed words\n",
    "    stems = [ps.stem(word) for word in string.split()]\n",
    "    \n",
    "    #join the list of stemmed words into a string\n",
    "    string_stemmed = ' '.join(stems)\n",
    "    \n",
    "    return string_stemmed"
   ]
  },
  {
   "cell_type": "code",
   "execution_count": 14,
   "id": "78bb76bf",
   "metadata": {},
   "outputs": [
    {
     "data": {
      "text/plain": [
       "\"serbian scientist name a new speci of beetl after exworld number one men ' s tenni playernovak djokov the insect which belong to duvaliu genu of ground beetl present in europ and wa discov sever year ago in underground pit in serbia ha been name ' duvaliu djokovici ' we feel urg to pay djokov back inway we can a research said\""
      ]
     },
     "execution_count": 14,
     "metadata": {},
     "output_type": "execute_result"
    }
   ],
   "source": [
    "# Test function using the tokenized version of my string\n",
    "string = basic_clean(original)\n",
    "\n",
    "stemmed = tokenize(string)\n",
    "\n",
    "string_stemmed = stem(stemmed)\n",
    "\n",
    "string_stemmed"
   ]
  },
  {
   "cell_type": "markdown",
   "id": "13cea0db",
   "metadata": {},
   "source": [
    "### 4.Define a function named lemmatize. It should accept some text and return the text after applying lemmatization to each word."
   ]
  },
  {
   "cell_type": "code",
   "execution_count": 15,
   "id": "72713c8e",
   "metadata": {},
   "outputs": [
    {
     "name": "stderr",
     "output_type": "stream",
     "text": [
      "[nltk_data] Downloading package wordnet to\n",
      "[nltk_data]     /Users/patricknash/nltk_data...\n",
      "[nltk_data]   Package wordnet is already up-to-date!\n"
     ]
    },
    {
     "data": {
      "text/plain": [
       "True"
      ]
     },
     "execution_count": 15,
     "metadata": {},
     "output_type": "execute_result"
    }
   ],
   "source": [
    "# Download wordnet lemmatized\n",
    "nltk.download('wordnet')"
   ]
  },
  {
   "cell_type": "code",
   "execution_count": 16,
   "id": "8e1728a4",
   "metadata": {},
   "outputs": [],
   "source": [
    "def lemmatize(string):\n",
    "    \"\"\"\n",
    "    This function takes in a string and returns a lemmatized version of the string.\n",
    "    \"\"\"\n",
    "    \n",
    "    #Create the lemmatizer\n",
    "    wnl = nltk.stem.WordNetLemmatizer()\n",
    "    \n",
    "    #Use the lemmatizer on each word in the string to create a list of lemmatized words\n",
    "    lemmas = [wnl.lemmatize(word) for word in string.split()]\n",
    "    \n",
    "    #Join the lemmatized words into one string\n",
    "    string_lemmatized = ' '.join(lemmas)\n",
    "    \n",
    "    return string_lemmatized"
   ]
  },
  {
   "cell_type": "code",
   "execution_count": 17,
   "id": "48a440d8",
   "metadata": {},
   "outputs": [
    {
     "data": {
      "text/plain": [
       "'Serbian scientist named a new specie of beetle after ex-world number one men\\'s tennis playerNovak Djokovic. The insect, which belongs to Duvalius genus of ground beetle present in Europe and wa discovered several year ago in underground pit in Serbia, ha been named \\'Duvalius djokovici\\'.\"We feel urged to pay Djokovic back in...way we can,\" a researcher said.'"
      ]
     },
     "execution_count": 17,
     "metadata": {},
     "output_type": "execute_result"
    }
   ],
   "source": [
    "# Test on my tokenized string\n",
    "lemmatize(original)"
   ]
  },
  {
   "cell_type": "markdown",
   "id": "64d2deac",
   "metadata": {},
   "source": [
    "### 5.Define a function named remove_stopwords. It should accept some text and return the text after removing all the stopwords.\n",
    "### This function should define two optional parameters, extra_words and exclude_words. These parameters should define any additional stop words to include, and any words that we don't want to remove."
   ]
  },
  {
   "cell_type": "code",
   "execution_count": 18,
   "id": "871fa9f2",
   "metadata": {},
   "outputs": [
    {
     "name": "stderr",
     "output_type": "stream",
     "text": [
      "[nltk_data] Downloading package stopwords to\n",
      "[nltk_data]     /Users/patricknash/nltk_data...\n",
      "[nltk_data]   Package stopwords is already up-to-date!\n"
     ]
    },
    {
     "data": {
      "text/plain": [
       "True"
      ]
     },
     "execution_count": 18,
     "metadata": {},
     "output_type": "execute_result"
    }
   ],
   "source": [
    "# dowload nltk stopwords list\n",
    "nltk.download('stopwords')"
   ]
  },
  {
   "cell_type": "code",
   "execution_count": 19,
   "id": "97a586af",
   "metadata": {},
   "outputs": [],
   "source": [
    "def remove_stopwords(string, extra_words = [], exclude_words = []):\n",
    "    \"\"\"\n",
    "    This function will take in a string, filter out stop words from the nltk standard english list \n",
    "    as well as any other extra words, and return a version of the text without these stopwords.\n",
    "    It includes optional paramaters allowing the user to add extra words to remove \n",
    "    or to exclude words from the stopword list.\n",
    "    \"\"\"\n",
    "    #Get the standard english stop word list from nltk\n",
    "    stop_words = stopwords.words('english')\n",
    "    \n",
    "    #Add extra words to be removed to the stop word list\n",
    "    for word in extra_words:\n",
    "        stop_words.append(word)\n",
    "    \n",
    "    #Remove words to be excluded from the stop word list\n",
    "    for word in exclude_words:\n",
    "        stop_words.remove(word)\n",
    "    \n",
    "    #Create a list of words to be checked by splitting the string\n",
    "    words = string.split()\n",
    "    \n",
    "    #Filter out all of the stop words\n",
    "    filtered_words = [word for word in words if word not in stop_words]\n",
    "    \n",
    "    #Join the list of filtered words into a string\n",
    "    filtered_string = ' '.join(filtered_words)\n",
    "    \n",
    "    return filtered_string"
   ]
  },
  {
   "cell_type": "code",
   "execution_count": 20,
   "id": "013bc20a",
   "metadata": {},
   "outputs": [
    {
     "data": {
      "text/plain": [
       "\"serbian scientist name a new speci of beetl after exworld number one men ' s tenni playernovak djokov the insect which belong to duvaliu genu of ground beetl present in europ and wa discov sever year ago in underground pit in serbia ha been name ' duvaliu djokovici ' we feel urg to pay djokov back inway we can a research said\""
      ]
     },
     "execution_count": 20,
     "metadata": {},
     "output_type": "execute_result"
    }
   ],
   "source": [
    "# Test function using the tokenized version of my string\n",
    "string = basic_clean(original)\n",
    "\n",
    "stemmed = tokenize(string)\n",
    "\n",
    "string_stemmed = stem(stemmed)\n",
    "\n",
    "string_stemmed"
   ]
  },
  {
   "cell_type": "markdown",
   "id": "c2d960e8",
   "metadata": {},
   "source": [
    "### 6.Use your data from the acquire to produce a dataframe of the news articles. Name the dataframe news_df."
   ]
  },
  {
   "cell_type": "code",
   "execution_count": 21,
   "id": "c3357cdb",
   "metadata": {},
   "outputs": [],
   "source": [
    "#nltk.download('all')"
   ]
  },
  {
   "cell_type": "code",
   "execution_count": 22,
   "id": "78dd8fb7",
   "metadata": {},
   "outputs": [],
   "source": [
    "#nltk.download('stopwords')"
   ]
  },
  {
   "cell_type": "code",
   "execution_count": 23,
   "id": "ca33f987",
   "metadata": {},
   "outputs": [],
   "source": [
    "#let's define news category url\n",
    "base_url = 'https://inshorts.com/en/read'"
   ]
  },
  {
   "cell_type": "code",
   "execution_count": 24,
   "id": "0f02fc96",
   "metadata": {},
   "outputs": [
    {
     "data": {
      "text/html": [
       "<div>\n",
       "<style scoped>\n",
       "    .dataframe tbody tr th:only-of-type {\n",
       "        vertical-align: middle;\n",
       "    }\n",
       "\n",
       "    .dataframe tbody tr th {\n",
       "        vertical-align: top;\n",
       "    }\n",
       "\n",
       "    .dataframe thead th {\n",
       "        text-align: right;\n",
       "    }\n",
       "</style>\n",
       "<table border=\"1\" class=\"dataframe\">\n",
       "  <thead>\n",
       "    <tr style=\"text-align: right;\">\n",
       "      <th></th>\n",
       "      <th>title</th>\n",
       "      <th>category</th>\n",
       "      <th>body</th>\n",
       "    </tr>\n",
       "  </thead>\n",
       "  <tbody>\n",
       "    <tr>\n",
       "      <th>0</th>\n",
       "      <td>AAP drops Rajouri Garden candidate, a week bef...</td>\n",
       "      <td>india</td>\n",
       "      <td>Only a week before Delhi Assembly polls, Aam A...</td>\n",
       "    </tr>\n",
       "    <tr>\n",
       "      <th>1</th>\n",
       "      <td>Zimbabwe players ask India for cricketing tips</td>\n",
       "      <td>india</td>\n",
       "      <td>After getting thrashed by India by 5-0 in the ...</td>\n",
       "    </tr>\n",
       "    <tr>\n",
       "      <th>2</th>\n",
       "      <td>Nigerian weightlifter in dope net, India may gain</td>\n",
       "      <td>india</td>\n",
       "      <td>India may move up after Nigerian weightlifter ...</td>\n",
       "    </tr>\n",
       "    <tr>\n",
       "      <th>3</th>\n",
       "      <td>Samsung launches Galaxy Star 2 Plus at Rs.7,335</td>\n",
       "      <td>india</td>\n",
       "      <td>Samsung has unveiled the Galaxy start 2 Plus s...</td>\n",
       "    </tr>\n",
       "    <tr>\n",
       "      <th>4</th>\n",
       "      <td>Infosys Gifts Sikka Shares Worth Rs 8.2cr</td>\n",
       "      <td>india</td>\n",
       "      <td>In a regulatory filing to the BSE on Friday, I...</td>\n",
       "    </tr>\n",
       "    <tr>\n",
       "      <th>...</th>\n",
       "      <td>...</td>\n",
       "      <td>...</td>\n",
       "      <td>...</td>\n",
       "    </tr>\n",
       "    <tr>\n",
       "      <th>280</th>\n",
       "      <td>Porsche becomes Europe's most valuable automak...</td>\n",
       "      <td>automobile</td>\n",
       "      <td>Porsche overtook parent company Volkswagen to ...</td>\n",
       "    </tr>\n",
       "    <tr>\n",
       "      <th>281</th>\n",
       "      <td>Car rental startup Zoomcar may go public via S...</td>\n",
       "      <td>automobile</td>\n",
       "      <td>Bengaluru-based car rental startup Zoomcar has...</td>\n",
       "    </tr>\n",
       "    <tr>\n",
       "      <th>282</th>\n",
       "      <td>Record 5.4 lakh vehicles sold during Navratri ...</td>\n",
       "      <td>automobile</td>\n",
       "      <td>Federation of Automobile Dealers Associations ...</td>\n",
       "    </tr>\n",
       "    <tr>\n",
       "      <th>283</th>\n",
       "      <td>TVS Motor beats Hero MotoCorp to become 6th mo...</td>\n",
       "      <td>automobile</td>\n",
       "      <td>TVS Motor Company Limited has become the sixth...</td>\n",
       "    </tr>\n",
       "    <tr>\n",
       "      <th>284</th>\n",
       "      <td>Amazon-backed Rivian's shares fall 9% after it...</td>\n",
       "      <td>automobile</td>\n",
       "      <td>Amazon-backed EV-maker Rivian on Friday recall...</td>\n",
       "    </tr>\n",
       "  </tbody>\n",
       "</table>\n",
       "<p>285 rows × 3 columns</p>\n",
       "</div>"
      ],
      "text/plain": [
       "                                                 title    category  \\\n",
       "0    AAP drops Rajouri Garden candidate, a week bef...       india   \n",
       "1       Zimbabwe players ask India for cricketing tips       india   \n",
       "2    Nigerian weightlifter in dope net, India may gain       india   \n",
       "3      Samsung launches Galaxy Star 2 Plus at Rs.7,335       india   \n",
       "4            Infosys Gifts Sikka Shares Worth Rs 8.2cr       india   \n",
       "..                                                 ...         ...   \n",
       "280  Porsche becomes Europe's most valuable automak...  automobile   \n",
       "281  Car rental startup Zoomcar may go public via S...  automobile   \n",
       "282  Record 5.4 lakh vehicles sold during Navratri ...  automobile   \n",
       "283  TVS Motor beats Hero MotoCorp to become 6th mo...  automobile   \n",
       "284  Amazon-backed Rivian's shares fall 9% after it...  automobile   \n",
       "\n",
       "                                                  body  \n",
       "0    Only a week before Delhi Assembly polls, Aam A...  \n",
       "1    After getting thrashed by India by 5-0 in the ...  \n",
       "2    India may move up after Nigerian weightlifter ...  \n",
       "3    Samsung has unveiled the Galaxy start 2 Plus s...  \n",
       "4    In a regulatory filing to the BSE on Friday, I...  \n",
       "..                                                 ...  \n",
       "280  Porsche overtook parent company Volkswagen to ...  \n",
       "281  Bengaluru-based car rental startup Zoomcar has...  \n",
       "282  Federation of Automobile Dealers Associations ...  \n",
       "283  TVS Motor Company Limited has become the sixth...  \n",
       "284  Amazon-backed EV-maker Rivian on Friday recall...  \n",
       "\n",
       "[285 rows x 3 columns]"
      ]
     },
     "execution_count": 24,
     "metadata": {},
     "output_type": "execute_result"
    }
   ],
   "source": [
    "#acquire news url\n",
    "news_df = acquire.get_all_shorts(base_url)\n",
    "news_df"
   ]
  },
  {
   "cell_type": "markdown",
   "id": "395e8b54",
   "metadata": {},
   "source": [
    "### 7.Make another dataframe for the Codeup blog posts. Name the dataframe codeup_df."
   ]
  },
  {
   "cell_type": "code",
   "execution_count": 27,
   "id": "a3f8bfe0",
   "metadata": {},
   "outputs": [],
   "source": [
    "#let's define codeup blog url\n",
    "base_url = 'https://codeup.com/blog/'"
   ]
  },
  {
   "cell_type": "code",
   "execution_count": 28,
   "id": "88383a2e",
   "metadata": {},
   "outputs": [
    {
     "data": {
      "text/html": [
       "<div>\n",
       "<style scoped>\n",
       "    .dataframe tbody tr th:only-of-type {\n",
       "        vertical-align: middle;\n",
       "    }\n",
       "\n",
       "    .dataframe tbody tr th {\n",
       "        vertical-align: top;\n",
       "    }\n",
       "\n",
       "    .dataframe thead th {\n",
       "        text-align: right;\n",
       "    }\n",
       "</style>\n",
       "<table border=\"1\" class=\"dataframe\">\n",
       "  <thead>\n",
       "    <tr style=\"text-align: right;\">\n",
       "      <th></th>\n",
       "      <th>title</th>\n",
       "      <th>content</th>\n",
       "    </tr>\n",
       "  </thead>\n",
       "  <tbody>\n",
       "    <tr>\n",
       "      <th>0</th>\n",
       "      <td>Coding Bootcamp or Computer Science Degree?</td>\n",
       "      <td>For many people, deciding between a coding boo...</td>\n",
       "    </tr>\n",
       "    <tr>\n",
       "      <th>1</th>\n",
       "      <td>Diversity Equity and Inclusion Report</td>\n",
       "      <td>Codeup is excited to launch our first Diversit...</td>\n",
       "    </tr>\n",
       "    <tr>\n",
       "      <th>2</th>\n",
       "      <td>Codeup Honored as SABJ Diversity and Inclusion...</td>\n",
       "      <td>Codeup has been named the 2022 Diversity and I...</td>\n",
       "    </tr>\n",
       "    <tr>\n",
       "      <th>3</th>\n",
       "      <td>How Can I Finance My Career Transition?</td>\n",
       "      <td>Deciding to transition into a tech career is a...</td>\n",
       "    </tr>\n",
       "    <tr>\n",
       "      <th>4</th>\n",
       "      <td>Tips for Women Beginning a Career in Tech</td>\n",
       "      <td>Codeup strongly values diversity, and inclusio...</td>\n",
       "    </tr>\n",
       "    <tr>\n",
       "      <th>5</th>\n",
       "      <td>What is Cloud Computing and AWS?</td>\n",
       "      <td>With many companies switching to cloud service...</td>\n",
       "    </tr>\n",
       "  </tbody>\n",
       "</table>\n",
       "</div>"
      ],
      "text/plain": [
       "                                               title  \\\n",
       "0        Coding Bootcamp or Computer Science Degree?   \n",
       "1              Diversity Equity and Inclusion Report   \n",
       "2  Codeup Honored as SABJ Diversity and Inclusion...   \n",
       "3            How Can I Finance My Career Transition?   \n",
       "4          Tips for Women Beginning a Career in Tech   \n",
       "5                   What is Cloud Computing and AWS?   \n",
       "\n",
       "                                             content  \n",
       "0  For many people, deciding between a coding boo...  \n",
       "1  Codeup is excited to launch our first Diversit...  \n",
       "2  Codeup has been named the 2022 Diversity and I...  \n",
       "3  Deciding to transition into a tech career is a...  \n",
       "4  Codeup strongly values diversity, and inclusio...  \n",
       "5  With many companies switching to cloud service...  "
      ]
     },
     "execution_count": 28,
     "metadata": {},
     "output_type": "execute_result"
    }
   ],
   "source": [
    "#acquire codeup url\n",
    "codeup_df = acquire.get_blog_content(base_url)\n",
    "codeup_df\n"
   ]
  },
  {
   "cell_type": "markdown",
   "id": "1ca912ec",
   "metadata": {},
   "source": [
    "### 8.For each dataframe, produce the following columns:\n",
    "\n",
    "### a) title to hold the title"
   ]
  },
  {
   "cell_type": "code",
   "execution_count": 33,
   "id": "f24f1523",
   "metadata": {},
   "outputs": [
    {
     "data": {
      "text/html": [
       "<div>\n",
       "<style scoped>\n",
       "    .dataframe tbody tr th:only-of-type {\n",
       "        vertical-align: middle;\n",
       "    }\n",
       "\n",
       "    .dataframe tbody tr th {\n",
       "        vertical-align: top;\n",
       "    }\n",
       "\n",
       "    .dataframe thead th {\n",
       "        text-align: right;\n",
       "    }\n",
       "</style>\n",
       "<table border=\"1\" class=\"dataframe\">\n",
       "  <thead>\n",
       "    <tr style=\"text-align: right;\">\n",
       "      <th></th>\n",
       "      <th>title</th>\n",
       "      <th>category</th>\n",
       "      <th>original</th>\n",
       "    </tr>\n",
       "  </thead>\n",
       "  <tbody>\n",
       "    <tr>\n",
       "      <th>0</th>\n",
       "      <td>AAP drops Rajouri Garden candidate, a week bef...</td>\n",
       "      <td>india</td>\n",
       "      <td>Only a week before Delhi Assembly polls, Aam A...</td>\n",
       "    </tr>\n",
       "    <tr>\n",
       "      <th>1</th>\n",
       "      <td>Zimbabwe players ask India for cricketing tips</td>\n",
       "      <td>india</td>\n",
       "      <td>After getting thrashed by India by 5-0 in the ...</td>\n",
       "    </tr>\n",
       "    <tr>\n",
       "      <th>2</th>\n",
       "      <td>Nigerian weightlifter in dope net, India may gain</td>\n",
       "      <td>india</td>\n",
       "      <td>India may move up after Nigerian weightlifter ...</td>\n",
       "    </tr>\n",
       "    <tr>\n",
       "      <th>3</th>\n",
       "      <td>Samsung launches Galaxy Star 2 Plus at Rs.7,335</td>\n",
       "      <td>india</td>\n",
       "      <td>Samsung has unveiled the Galaxy start 2 Plus s...</td>\n",
       "    </tr>\n",
       "    <tr>\n",
       "      <th>4</th>\n",
       "      <td>Infosys Gifts Sikka Shares Worth Rs 8.2cr</td>\n",
       "      <td>india</td>\n",
       "      <td>In a regulatory filing to the BSE on Friday, I...</td>\n",
       "    </tr>\n",
       "  </tbody>\n",
       "</table>\n",
       "</div>"
      ],
      "text/plain": [
       "                                               title category  \\\n",
       "0  AAP drops Rajouri Garden candidate, a week bef...    india   \n",
       "1     Zimbabwe players ask India for cricketing tips    india   \n",
       "2  Nigerian weightlifter in dope net, India may gain    india   \n",
       "3    Samsung launches Galaxy Star 2 Plus at Rs.7,335    india   \n",
       "4          Infosys Gifts Sikka Shares Worth Rs 8.2cr    india   \n",
       "\n",
       "                                            original  \n",
       "0  Only a week before Delhi Assembly polls, Aam A...  \n",
       "1  After getting thrashed by India by 5-0 in the ...  \n",
       "2  India may move up after Nigerian weightlifter ...  \n",
       "3  Samsung has unveiled the Galaxy start 2 Plus s...  \n",
       "4  In a regulatory filing to the BSE on Friday, I...  "
      ]
     },
     "execution_count": 33,
     "metadata": {},
     "output_type": "execute_result"
    }
   ],
   "source": [
    "news_df = news_df.rename(columns={'body':'original'})\n",
    "news_df.head()"
   ]
  },
  {
   "cell_type": "markdown",
   "id": "38df203b",
   "metadata": {},
   "source": [
    "### b) original to hold the original article/post content"
   ]
  },
  {
   "cell_type": "code",
   "execution_count": 34,
   "id": "00049272",
   "metadata": {},
   "outputs": [
    {
     "data": {
      "text/html": [
       "<div>\n",
       "<style scoped>\n",
       "    .dataframe tbody tr th:only-of-type {\n",
       "        vertical-align: middle;\n",
       "    }\n",
       "\n",
       "    .dataframe tbody tr th {\n",
       "        vertical-align: top;\n",
       "    }\n",
       "\n",
       "    .dataframe thead th {\n",
       "        text-align: right;\n",
       "    }\n",
       "</style>\n",
       "<table border=\"1\" class=\"dataframe\">\n",
       "  <thead>\n",
       "    <tr style=\"text-align: right;\">\n",
       "      <th></th>\n",
       "      <th>title</th>\n",
       "      <th>original</th>\n",
       "    </tr>\n",
       "  </thead>\n",
       "  <tbody>\n",
       "    <tr>\n",
       "      <th>0</th>\n",
       "      <td>AAP drops Rajouri Garden candidate, a week bef...</td>\n",
       "      <td>Only a week before Delhi Assembly polls, Aam A...</td>\n",
       "    </tr>\n",
       "    <tr>\n",
       "      <th>1</th>\n",
       "      <td>Zimbabwe players ask India for cricketing tips</td>\n",
       "      <td>After getting thrashed by India by 5-0 in the ...</td>\n",
       "    </tr>\n",
       "    <tr>\n",
       "      <th>2</th>\n",
       "      <td>Nigerian weightlifter in dope net, India may gain</td>\n",
       "      <td>India may move up after Nigerian weightlifter ...</td>\n",
       "    </tr>\n",
       "    <tr>\n",
       "      <th>3</th>\n",
       "      <td>Samsung launches Galaxy Star 2 Plus at Rs.7,335</td>\n",
       "      <td>Samsung has unveiled the Galaxy start 2 Plus s...</td>\n",
       "    </tr>\n",
       "    <tr>\n",
       "      <th>4</th>\n",
       "      <td>Infosys Gifts Sikka Shares Worth Rs 8.2cr</td>\n",
       "      <td>In a regulatory filing to the BSE on Friday, I...</td>\n",
       "    </tr>\n",
       "  </tbody>\n",
       "</table>\n",
       "</div>"
      ],
      "text/plain": [
       "                                               title  \\\n",
       "0  AAP drops Rajouri Garden candidate, a week bef...   \n",
       "1     Zimbabwe players ask India for cricketing tips   \n",
       "2  Nigerian weightlifter in dope net, India may gain   \n",
       "3    Samsung launches Galaxy Star 2 Plus at Rs.7,335   \n",
       "4          Infosys Gifts Sikka Shares Worth Rs 8.2cr   \n",
       "\n",
       "                                            original  \n",
       "0  Only a week before Delhi Assembly polls, Aam A...  \n",
       "1  After getting thrashed by India by 5-0 in the ...  \n",
       "2  India may move up after Nigerian weightlifter ...  \n",
       "3  Samsung has unveiled the Galaxy start 2 Plus s...  \n",
       "4  In a regulatory filing to the BSE on Friday, I...  "
      ]
     },
     "execution_count": 34,
     "metadata": {},
     "output_type": "execute_result"
    }
   ],
   "source": [
    "news_df = news_df[['title','original']]\n",
    "news_df.head()"
   ]
  },
  {
   "cell_type": "markdown",
   "id": "d74bb922",
   "metadata": {},
   "source": [
    "### c) clean to hold the normalized and tokenized original with the stopwords removed."
   ]
  },
  {
   "cell_type": "code",
   "execution_count": 35,
   "id": "c6f016ad",
   "metadata": {},
   "outputs": [
    {
     "data": {
      "text/html": [
       "<div>\n",
       "<style scoped>\n",
       "    .dataframe tbody tr th:only-of-type {\n",
       "        vertical-align: middle;\n",
       "    }\n",
       "\n",
       "    .dataframe tbody tr th {\n",
       "        vertical-align: top;\n",
       "    }\n",
       "\n",
       "    .dataframe thead th {\n",
       "        text-align: right;\n",
       "    }\n",
       "</style>\n",
       "<table border=\"1\" class=\"dataframe\">\n",
       "  <thead>\n",
       "    <tr style=\"text-align: right;\">\n",
       "      <th></th>\n",
       "      <th>title</th>\n",
       "      <th>original</th>\n",
       "      <th>clean</th>\n",
       "    </tr>\n",
       "  </thead>\n",
       "  <tbody>\n",
       "    <tr>\n",
       "      <th>0</th>\n",
       "      <td>AAP drops Rajouri Garden candidate, a week bef...</td>\n",
       "      <td>Only a week before Delhi Assembly polls, Aam A...</td>\n",
       "      <td>only a week before delhi assembly polls aam aa...</td>\n",
       "    </tr>\n",
       "    <tr>\n",
       "      <th>1</th>\n",
       "      <td>Zimbabwe players ask India for cricketing tips</td>\n",
       "      <td>After getting thrashed by India by 5-0 in the ...</td>\n",
       "      <td>after getting thrashed by india by 50 in the j...</td>\n",
       "    </tr>\n",
       "    <tr>\n",
       "      <th>2</th>\n",
       "      <td>Nigerian weightlifter in dope net, India may gain</td>\n",
       "      <td>India may move up after Nigerian weightlifter ...</td>\n",
       "      <td>india may move up after nigerian weightlifter ...</td>\n",
       "    </tr>\n",
       "    <tr>\n",
       "      <th>3</th>\n",
       "      <td>Samsung launches Galaxy Star 2 Plus at Rs.7,335</td>\n",
       "      <td>Samsung has unveiled the Galaxy start 2 Plus s...</td>\n",
       "      <td>samsung has unveiled the galaxy start 2 plus s...</td>\n",
       "    </tr>\n",
       "    <tr>\n",
       "      <th>4</th>\n",
       "      <td>Infosys Gifts Sikka Shares Worth Rs 8.2cr</td>\n",
       "      <td>In a regulatory filing to the BSE on Friday, I...</td>\n",
       "      <td>in a regulatory filing to the bse on friday in...</td>\n",
       "    </tr>\n",
       "  </tbody>\n",
       "</table>\n",
       "</div>"
      ],
      "text/plain": [
       "                                               title  \\\n",
       "0  AAP drops Rajouri Garden candidate, a week bef...   \n",
       "1     Zimbabwe players ask India for cricketing tips   \n",
       "2  Nigerian weightlifter in dope net, India may gain   \n",
       "3    Samsung launches Galaxy Star 2 Plus at Rs.7,335   \n",
       "4          Infosys Gifts Sikka Shares Worth Rs 8.2cr   \n",
       "\n",
       "                                            original  \\\n",
       "0  Only a week before Delhi Assembly polls, Aam A...   \n",
       "1  After getting thrashed by India by 5-0 in the ...   \n",
       "2  India may move up after Nigerian weightlifter ...   \n",
       "3  Samsung has unveiled the Galaxy start 2 Plus s...   \n",
       "4  In a regulatory filing to the BSE on Friday, I...   \n",
       "\n",
       "                                               clean  \n",
       "0  only a week before delhi assembly polls aam aa...  \n",
       "1  after getting thrashed by india by 50 in the j...  \n",
       "2  india may move up after nigerian weightlifter ...  \n",
       "3  samsung has unveiled the galaxy start 2 plus s...  \n",
       "4  in a regulatory filing to the bse on friday in...  "
      ]
     },
     "execution_count": 35,
     "metadata": {},
     "output_type": "execute_result"
    }
   ],
   "source": [
    "news_df['clean'] = news_df.original.apply(basic_clean)\n",
    "news_df.head()"
   ]
  },
  {
   "cell_type": "markdown",
   "id": "4453f90f",
   "metadata": {},
   "source": [
    "### d) stemmed to hold the stemmed version of the cleaned data."
   ]
  },
  {
   "cell_type": "code",
   "execution_count": 36,
   "id": "10f2e248",
   "metadata": {},
   "outputs": [
    {
     "data": {
      "text/html": [
       "<div>\n",
       "<style scoped>\n",
       "    .dataframe tbody tr th:only-of-type {\n",
       "        vertical-align: middle;\n",
       "    }\n",
       "\n",
       "    .dataframe tbody tr th {\n",
       "        vertical-align: top;\n",
       "    }\n",
       "\n",
       "    .dataframe thead th {\n",
       "        text-align: right;\n",
       "    }\n",
       "</style>\n",
       "<table border=\"1\" class=\"dataframe\">\n",
       "  <thead>\n",
       "    <tr style=\"text-align: right;\">\n",
       "      <th></th>\n",
       "      <th>title</th>\n",
       "      <th>original</th>\n",
       "      <th>clean</th>\n",
       "      <th>stemmed</th>\n",
       "      <th>lemmatized</th>\n",
       "    </tr>\n",
       "  </thead>\n",
       "  <tbody>\n",
       "    <tr>\n",
       "      <th>0</th>\n",
       "      <td>AAP drops Rajouri Garden candidate, a week bef...</td>\n",
       "      <td>Only a week before Delhi Assembly polls, Aam A...</td>\n",
       "      <td>only a week before delhi assembly polls aam aa...</td>\n",
       "      <td>onli a week befor delhi assembl poll aam aadmi...</td>\n",
       "      <td>only a week before delhi assembly poll aam aad...</td>\n",
       "    </tr>\n",
       "    <tr>\n",
       "      <th>1</th>\n",
       "      <td>Zimbabwe players ask India for cricketing tips</td>\n",
       "      <td>After getting thrashed by India by 5-0 in the ...</td>\n",
       "      <td>after getting thrashed by india by 50 in the j...</td>\n",
       "      <td>after get thrash by india by 50 in the just co...</td>\n",
       "      <td>after getting thrashed by india by 50 in the j...</td>\n",
       "    </tr>\n",
       "    <tr>\n",
       "      <th>2</th>\n",
       "      <td>Nigerian weightlifter in dope net, India may gain</td>\n",
       "      <td>India may move up after Nigerian weightlifter ...</td>\n",
       "      <td>india may move up after nigerian weightlifter ...</td>\n",
       "      <td>india may move up after nigerian weightlift ch...</td>\n",
       "      <td>india may move up after nigerian weightlifter ...</td>\n",
       "    </tr>\n",
       "    <tr>\n",
       "      <th>3</th>\n",
       "      <td>Samsung launches Galaxy Star 2 Plus at Rs.7,335</td>\n",
       "      <td>Samsung has unveiled the Galaxy start 2 Plus s...</td>\n",
       "      <td>samsung has unveiled the galaxy start 2 plus s...</td>\n",
       "      <td>samsung ha unveil the galaxi start 2 plu smart...</td>\n",
       "      <td>samsung ha unveiled the galaxy start 2 plus sm...</td>\n",
       "    </tr>\n",
       "    <tr>\n",
       "      <th>4</th>\n",
       "      <td>Infosys Gifts Sikka Shares Worth Rs 8.2cr</td>\n",
       "      <td>In a regulatory filing to the BSE on Friday, I...</td>\n",
       "      <td>in a regulatory filing to the bse on friday in...</td>\n",
       "      <td>in a regulatori file to the bse on friday info...</td>\n",
       "      <td>in a regulatory filing to the bse on friday in...</td>\n",
       "    </tr>\n",
       "  </tbody>\n",
       "</table>\n",
       "</div>"
      ],
      "text/plain": [
       "                                               title  \\\n",
       "0  AAP drops Rajouri Garden candidate, a week bef...   \n",
       "1     Zimbabwe players ask India for cricketing tips   \n",
       "2  Nigerian weightlifter in dope net, India may gain   \n",
       "3    Samsung launches Galaxy Star 2 Plus at Rs.7,335   \n",
       "4          Infosys Gifts Sikka Shares Worth Rs 8.2cr   \n",
       "\n",
       "                                            original  \\\n",
       "0  Only a week before Delhi Assembly polls, Aam A...   \n",
       "1  After getting thrashed by India by 5-0 in the ...   \n",
       "2  India may move up after Nigerian weightlifter ...   \n",
       "3  Samsung has unveiled the Galaxy start 2 Plus s...   \n",
       "4  In a regulatory filing to the BSE on Friday, I...   \n",
       "\n",
       "                                               clean  \\\n",
       "0  only a week before delhi assembly polls aam aa...   \n",
       "1  after getting thrashed by india by 50 in the j...   \n",
       "2  india may move up after nigerian weightlifter ...   \n",
       "3  samsung has unveiled the galaxy start 2 plus s...   \n",
       "4  in a regulatory filing to the bse on friday in...   \n",
       "\n",
       "                                             stemmed  \\\n",
       "0  onli a week befor delhi assembl poll aam aadmi...   \n",
       "1  after get thrash by india by 50 in the just co...   \n",
       "2  india may move up after nigerian weightlift ch...   \n",
       "3  samsung ha unveil the galaxi start 2 plu smart...   \n",
       "4  in a regulatori file to the bse on friday info...   \n",
       "\n",
       "                                          lemmatized  \n",
       "0  only a week before delhi assembly poll aam aad...  \n",
       "1  after getting thrashed by india by 50 in the j...  \n",
       "2  india may move up after nigerian weightlifter ...  \n",
       "3  samsung ha unveiled the galaxy start 2 plus sm...  \n",
       "4  in a regulatory filing to the bse on friday in...  "
      ]
     },
     "execution_count": 36,
     "metadata": {},
     "output_type": "execute_result"
    }
   ],
   "source": [
    "news_df['stemmed'] = news_df.clean.apply(stem)\n",
    "news_df['lemmatized'] = news_df.clean.apply(lemmatize)\n",
    "news_df.head()"
   ]
  },
  {
   "cell_type": "markdown",
   "id": "cca9620b",
   "metadata": {},
   "source": [
    "### e) lemmatized to hold the lemmatized version of the cleaned data."
   ]
  },
  {
   "cell_type": "code",
   "execution_count": 37,
   "id": "20206f0f",
   "metadata": {},
   "outputs": [],
   "source": [
    "#lemmatize function\n",
    "def clean_df(df, extra_words=[], exclude_words=[]):\n",
    "    df = df[['title','original']]\n",
    "    \n",
    "    df['clean'] = df.original\\\n",
    "                        .apply(basic_clean)\\\n",
    "                        .apply(tokenize)\\\n",
    "                        .apply(remove_stopwords, \n",
    "                                    extra_words=extra_words,\n",
    "                                    exclude_words=exclude_words)\n",
    "    df['stemmed'] = df.clean.apply(stem)\n",
    "    df['lemmatized'] = df.clean.apply(lemmatize)\n",
    "    \n",
    "    return df"
   ]
  },
  {
   "cell_type": "code",
   "execution_count": 38,
   "id": "852670c2",
   "metadata": {},
   "outputs": [],
   "source": [
    "#apply the lemmatize function\n",
    "news_df_new = news_df.rename(columns={'content':'original'})\n",
    "codeup_df_new = codeup_df.rename(columns={'content':'original'})"
   ]
  },
  {
   "cell_type": "code",
   "execution_count": 39,
   "id": "79e1cd40",
   "metadata": {},
   "outputs": [
    {
     "data": {
      "text/html": [
       "<div>\n",
       "<style scoped>\n",
       "    .dataframe tbody tr th:only-of-type {\n",
       "        vertical-align: middle;\n",
       "    }\n",
       "\n",
       "    .dataframe tbody tr th {\n",
       "        vertical-align: top;\n",
       "    }\n",
       "\n",
       "    .dataframe thead th {\n",
       "        text-align: right;\n",
       "    }\n",
       "</style>\n",
       "<table border=\"1\" class=\"dataframe\">\n",
       "  <thead>\n",
       "    <tr style=\"text-align: right;\">\n",
       "      <th></th>\n",
       "      <th>title</th>\n",
       "      <th>original</th>\n",
       "      <th>clean</th>\n",
       "      <th>stemmed</th>\n",
       "      <th>lemmatized</th>\n",
       "    </tr>\n",
       "  </thead>\n",
       "  <tbody>\n",
       "    <tr>\n",
       "      <th>0</th>\n",
       "      <td>AAP drops Rajouri Garden candidate, a week bef...</td>\n",
       "      <td>Only a week before Delhi Assembly polls, Aam A...</td>\n",
       "      <td>week delhi assembly polls aam aadmi party tues...</td>\n",
       "      <td>week delhi assembl poll aam aadmi parti tuesda...</td>\n",
       "      <td>week delhi assembly poll aam aadmi party tuesd...</td>\n",
       "    </tr>\n",
       "    <tr>\n",
       "      <th>1</th>\n",
       "      <td>Zimbabwe players ask India for cricketing tips</td>\n",
       "      <td>After getting thrashed by India by 5-0 in the ...</td>\n",
       "      <td>getting thrashed india 50 concluded odi series...</td>\n",
       "      <td>get thrash india 50 conclud odi seri zimbabw c...</td>\n",
       "      <td>getting thrashed india 50 concluded odi series...</td>\n",
       "    </tr>\n",
       "    <tr>\n",
       "      <th>2</th>\n",
       "      <td>Nigerian weightlifter in dope net, India may gain</td>\n",
       "      <td>India may move up after Nigerian weightlifter ...</td>\n",
       "      <td>india may move nigerian weightlifter chika ama...</td>\n",
       "      <td>india may move nigerian weightlift chika amala...</td>\n",
       "      <td>india may move nigerian weightlifter chika ama...</td>\n",
       "    </tr>\n",
       "    <tr>\n",
       "      <th>3</th>\n",
       "      <td>Samsung launches Galaxy Star 2 Plus at Rs.7,335</td>\n",
       "      <td>Samsung has unveiled the Galaxy start 2 Plus s...</td>\n",
       "      <td>samsung unveiled galaxy start 2 plus smartphon...</td>\n",
       "      <td>samsung unveil galaxi start 2 plu smartphon in...</td>\n",
       "      <td>samsung unveiled galaxy start 2 plus smartphon...</td>\n",
       "    </tr>\n",
       "    <tr>\n",
       "      <th>4</th>\n",
       "      <td>Infosys Gifts Sikka Shares Worth Rs 8.2cr</td>\n",
       "      <td>In a regulatory filing to the BSE on Friday, I...</td>\n",
       "      <td>regulatory filing bse friday ltd decided give ...</td>\n",
       "      <td>regulatori file bse friday ltd decid give shar...</td>\n",
       "      <td>regulatory filing bse friday ltd decided give ...</td>\n",
       "    </tr>\n",
       "    <tr>\n",
       "      <th>...</th>\n",
       "      <td>...</td>\n",
       "      <td>...</td>\n",
       "      <td>...</td>\n",
       "      <td>...</td>\n",
       "      <td>...</td>\n",
       "    </tr>\n",
       "    <tr>\n",
       "      <th>280</th>\n",
       "      <td>Porsche becomes Europe's most valuable automak...</td>\n",
       "      <td>Porsche overtook parent company Volkswagen to ...</td>\n",
       "      <td>porsche overtook parent company volkswagen bec...</td>\n",
       "      <td>porsch overtook parent compani volkswagen beco...</td>\n",
       "      <td>porsche overtook parent company volkswagen bec...</td>\n",
       "    </tr>\n",
       "    <tr>\n",
       "      <th>281</th>\n",
       "      <td>Car rental startup Zoomcar may go public via S...</td>\n",
       "      <td>Bengaluru-based car rental startup Zoomcar has...</td>\n",
       "      <td>bengalurubased car rental startup zoomcar repo...</td>\n",
       "      <td>bengalurubas car rental startup zoomcar report...</td>\n",
       "      <td>bengalurubased car rental startup zoomcar repo...</td>\n",
       "    </tr>\n",
       "    <tr>\n",
       "      <th>282</th>\n",
       "      <td>Record 5.4 lakh vehicles sold during Navratri ...</td>\n",
       "      <td>Federation of Automobile Dealers Associations ...</td>\n",
       "      <td>federation automobile dealers associations fad...</td>\n",
       "      <td>feder automobil dealer associ fada monday said...</td>\n",
       "      <td>federation automobile dealer association fada ...</td>\n",
       "    </tr>\n",
       "    <tr>\n",
       "      <th>283</th>\n",
       "      <td>TVS Motor beats Hero MotoCorp to become 6th mo...</td>\n",
       "      <td>TVS Motor Company Limited has become the sixth...</td>\n",
       "      <td>tvs motor company limited become sixth mostval...</td>\n",
       "      <td>tv motor compani limit becom sixth mostvalu li...</td>\n",
       "      <td>tv motor company limited become sixth mostvalu...</td>\n",
       "    </tr>\n",
       "    <tr>\n",
       "      <th>284</th>\n",
       "      <td>Amazon-backed Rivian's shares fall 9% after it...</td>\n",
       "      <td>Amazon-backed EV-maker Rivian on Friday recall...</td>\n",
       "      <td>amazonbacked evmaker rivian friday recalled ne...</td>\n",
       "      <td>amazonback evmak rivian friday recal nearli 13...</td>\n",
       "      <td>amazonbacked evmaker rivian friday recalled ne...</td>\n",
       "    </tr>\n",
       "  </tbody>\n",
       "</table>\n",
       "<p>285 rows × 5 columns</p>\n",
       "</div>"
      ],
      "text/plain": [
       "                                                 title  \\\n",
       "0    AAP drops Rajouri Garden candidate, a week bef...   \n",
       "1       Zimbabwe players ask India for cricketing tips   \n",
       "2    Nigerian weightlifter in dope net, India may gain   \n",
       "3      Samsung launches Galaxy Star 2 Plus at Rs.7,335   \n",
       "4            Infosys Gifts Sikka Shares Worth Rs 8.2cr   \n",
       "..                                                 ...   \n",
       "280  Porsche becomes Europe's most valuable automak...   \n",
       "281  Car rental startup Zoomcar may go public via S...   \n",
       "282  Record 5.4 lakh vehicles sold during Navratri ...   \n",
       "283  TVS Motor beats Hero MotoCorp to become 6th mo...   \n",
       "284  Amazon-backed Rivian's shares fall 9% after it...   \n",
       "\n",
       "                                              original  \\\n",
       "0    Only a week before Delhi Assembly polls, Aam A...   \n",
       "1    After getting thrashed by India by 5-0 in the ...   \n",
       "2    India may move up after Nigerian weightlifter ...   \n",
       "3    Samsung has unveiled the Galaxy start 2 Plus s...   \n",
       "4    In a regulatory filing to the BSE on Friday, I...   \n",
       "..                                                 ...   \n",
       "280  Porsche overtook parent company Volkswagen to ...   \n",
       "281  Bengaluru-based car rental startup Zoomcar has...   \n",
       "282  Federation of Automobile Dealers Associations ...   \n",
       "283  TVS Motor Company Limited has become the sixth...   \n",
       "284  Amazon-backed EV-maker Rivian on Friday recall...   \n",
       "\n",
       "                                                 clean  \\\n",
       "0    week delhi assembly polls aam aadmi party tues...   \n",
       "1    getting thrashed india 50 concluded odi series...   \n",
       "2    india may move nigerian weightlifter chika ama...   \n",
       "3    samsung unveiled galaxy start 2 plus smartphon...   \n",
       "4    regulatory filing bse friday ltd decided give ...   \n",
       "..                                                 ...   \n",
       "280  porsche overtook parent company volkswagen bec...   \n",
       "281  bengalurubased car rental startup zoomcar repo...   \n",
       "282  federation automobile dealers associations fad...   \n",
       "283  tvs motor company limited become sixth mostval...   \n",
       "284  amazonbacked evmaker rivian friday recalled ne...   \n",
       "\n",
       "                                               stemmed  \\\n",
       "0    week delhi assembl poll aam aadmi parti tuesda...   \n",
       "1    get thrash india 50 conclud odi seri zimbabw c...   \n",
       "2    india may move nigerian weightlift chika amala...   \n",
       "3    samsung unveil galaxi start 2 plu smartphon in...   \n",
       "4    regulatori file bse friday ltd decid give shar...   \n",
       "..                                                 ...   \n",
       "280  porsch overtook parent compani volkswagen beco...   \n",
       "281  bengalurubas car rental startup zoomcar report...   \n",
       "282  feder automobil dealer associ fada monday said...   \n",
       "283  tv motor compani limit becom sixth mostvalu li...   \n",
       "284  amazonback evmak rivian friday recal nearli 13...   \n",
       "\n",
       "                                            lemmatized  \n",
       "0    week delhi assembly poll aam aadmi party tuesd...  \n",
       "1    getting thrashed india 50 concluded odi series...  \n",
       "2    india may move nigerian weightlifter chika ama...  \n",
       "3    samsung unveiled galaxy start 2 plus smartphon...  \n",
       "4    regulatory filing bse friday ltd decided give ...  \n",
       "..                                                 ...  \n",
       "280  porsche overtook parent company volkswagen bec...  \n",
       "281  bengalurubased car rental startup zoomcar repo...  \n",
       "282  federation automobile dealer association fada ...  \n",
       "283  tv motor company limited become sixth mostvalu...  \n",
       "284  amazonbacked evmaker rivian friday recalled ne...  \n",
       "\n",
       "[285 rows x 5 columns]"
      ]
     },
     "execution_count": 39,
     "metadata": {},
     "output_type": "execute_result"
    }
   ],
   "source": [
    "clean_df(news_df_new, extra_words=['infosys'])"
   ]
  },
  {
   "cell_type": "code",
   "execution_count": 40,
   "id": "0aa2b27f",
   "metadata": {},
   "outputs": [
    {
     "data": {
      "text/html": [
       "<div>\n",
       "<style scoped>\n",
       "    .dataframe tbody tr th:only-of-type {\n",
       "        vertical-align: middle;\n",
       "    }\n",
       "\n",
       "    .dataframe tbody tr th {\n",
       "        vertical-align: top;\n",
       "    }\n",
       "\n",
       "    .dataframe thead th {\n",
       "        text-align: right;\n",
       "    }\n",
       "</style>\n",
       "<table border=\"1\" class=\"dataframe\">\n",
       "  <thead>\n",
       "    <tr style=\"text-align: right;\">\n",
       "      <th></th>\n",
       "      <th>title</th>\n",
       "      <th>original</th>\n",
       "      <th>clean</th>\n",
       "      <th>stemmed</th>\n",
       "      <th>lemmatized</th>\n",
       "    </tr>\n",
       "  </thead>\n",
       "  <tbody>\n",
       "    <tr>\n",
       "      <th>0</th>\n",
       "      <td>Coding Bootcamp or Computer Science Degree?</td>\n",
       "      <td>For many people, deciding between a coding boo...</td>\n",
       "      <td>many people deciding coding bootcamp computer ...</td>\n",
       "      <td>mani peopl decid code bootcamp comput scienc d...</td>\n",
       "      <td>many people deciding coding bootcamp computer ...</td>\n",
       "    </tr>\n",
       "    <tr>\n",
       "      <th>1</th>\n",
       "      <td>Diversity Equity and Inclusion Report</td>\n",
       "      <td>Codeup is excited to launch our first Diversit...</td>\n",
       "      <td>codeup excited launch first diversity equity i...</td>\n",
       "      <td>codeup excit launch first divers equiti inclus...</td>\n",
       "      <td>codeup excited launch first diversity equity i...</td>\n",
       "    </tr>\n",
       "    <tr>\n",
       "      <th>2</th>\n",
       "      <td>Codeup Honored as SABJ Diversity and Inclusion...</td>\n",
       "      <td>Codeup has been named the 2022 Diversity and I...</td>\n",
       "      <td>codeup named 2022 diversity inclusion award wi...</td>\n",
       "      <td>codeup name 2022 divers inclus award winner sa...</td>\n",
       "      <td>codeup named 2022 diversity inclusion award wi...</td>\n",
       "    </tr>\n",
       "    <tr>\n",
       "      <th>3</th>\n",
       "      <td>How Can I Finance My Career Transition?</td>\n",
       "      <td>Deciding to transition into a tech career is a...</td>\n",
       "      <td>deciding transition tech career big step signi...</td>\n",
       "      <td>decid transit tech career big step signific co...</td>\n",
       "      <td>deciding transition tech career big step signi...</td>\n",
       "    </tr>\n",
       "    <tr>\n",
       "      <th>4</th>\n",
       "      <td>Tips for Women Beginning a Career in Tech</td>\n",
       "      <td>Codeup strongly values diversity, and inclusio...</td>\n",
       "      <td>codeup strongly values diversity inclusion hon...</td>\n",
       "      <td>codeup strongli valu divers inclus honor ameri...</td>\n",
       "      <td>codeup strongly value diversity inclusion hono...</td>\n",
       "    </tr>\n",
       "    <tr>\n",
       "      <th>5</th>\n",
       "      <td>What is Cloud Computing and AWS?</td>\n",
       "      <td>With many companies switching to cloud service...</td>\n",
       "      <td>many companies switching cloud services implem...</td>\n",
       "      <td>mani compani switch cloud servic implement clo...</td>\n",
       "      <td>many company switching cloud service implement...</td>\n",
       "    </tr>\n",
       "  </tbody>\n",
       "</table>\n",
       "</div>"
      ],
      "text/plain": [
       "                                               title  \\\n",
       "0        Coding Bootcamp or Computer Science Degree?   \n",
       "1              Diversity Equity and Inclusion Report   \n",
       "2  Codeup Honored as SABJ Diversity and Inclusion...   \n",
       "3            How Can I Finance My Career Transition?   \n",
       "4          Tips for Women Beginning a Career in Tech   \n",
       "5                   What is Cloud Computing and AWS?   \n",
       "\n",
       "                                            original  \\\n",
       "0  For many people, deciding between a coding boo...   \n",
       "1  Codeup is excited to launch our first Diversit...   \n",
       "2  Codeup has been named the 2022 Diversity and I...   \n",
       "3  Deciding to transition into a tech career is a...   \n",
       "4  Codeup strongly values diversity, and inclusio...   \n",
       "5  With many companies switching to cloud service...   \n",
       "\n",
       "                                               clean  \\\n",
       "0  many people deciding coding bootcamp computer ...   \n",
       "1  codeup excited launch first diversity equity i...   \n",
       "2  codeup named 2022 diversity inclusion award wi...   \n",
       "3  deciding transition tech career big step signi...   \n",
       "4  codeup strongly values diversity inclusion hon...   \n",
       "5  many companies switching cloud services implem...   \n",
       "\n",
       "                                             stemmed  \\\n",
       "0  mani peopl decid code bootcamp comput scienc d...   \n",
       "1  codeup excit launch first divers equiti inclus...   \n",
       "2  codeup name 2022 divers inclus award winner sa...   \n",
       "3  decid transit tech career big step signific co...   \n",
       "4  codeup strongli valu divers inclus honor ameri...   \n",
       "5  mani compani switch cloud servic implement clo...   \n",
       "\n",
       "                                          lemmatized  \n",
       "0  many people deciding coding bootcamp computer ...  \n",
       "1  codeup excited launch first diversity equity i...  \n",
       "2  codeup named 2022 diversity inclusion award wi...  \n",
       "3  deciding transition tech career big step signi...  \n",
       "4  codeup strongly value diversity inclusion hono...  \n",
       "5  many company switching cloud service implement...  "
      ]
     },
     "execution_count": 40,
     "metadata": {},
     "output_type": "execute_result"
    }
   ],
   "source": [
    "clean_df(codeup_df)"
   ]
  },
  {
   "cell_type": "markdown",
   "id": "cd2c063e",
   "metadata": {},
   "source": [
    "### 9. Ask yourself:\n",
    "\n",
    "- If your corpus is 493KB, would you prefer to use stemmed or lemmatized text?\n",
    " - 493kb is small, I prefer lemmatized text.\n",
    "- If your corpus is 25MB, would you prefer to use stemmed or lemmatized text?\n",
    " - 25mb is too large, I prefer lemmatized text.\n",
    "- If your corpus is 200TB of text and you're charged by the megabyte for your hosted computational resources, would you prefer to use stemmed or lemmatized text?\n",
    " - 200TB is a large corpus, I prefere stemmed text.\n",
    "                             "
   ]
  },
  {
   "cell_type": "code",
   "execution_count": null,
   "id": "b1e4ae59",
   "metadata": {},
   "outputs": [],
   "source": []
  }
 ],
 "metadata": {
  "kernelspec": {
   "display_name": "Python 3 (ipykernel)",
   "language": "python",
   "name": "python3"
  },
  "language_info": {
   "codemirror_mode": {
    "name": "ipython",
    "version": 3
   },
   "file_extension": ".py",
   "mimetype": "text/x-python",
   "name": "python",
   "nbconvert_exporter": "python",
   "pygments_lexer": "ipython3",
   "version": "3.9.12"
  }
 },
 "nbformat": 4,
 "nbformat_minor": 5
}
