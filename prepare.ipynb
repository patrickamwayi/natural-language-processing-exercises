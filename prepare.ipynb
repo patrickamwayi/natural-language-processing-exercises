{
 "cells": [
  {
   "cell_type": "code",
   "execution_count": 1,
   "id": "d082ccfb",
   "metadata": {},
   "outputs": [],
   "source": [
    "import pandas as pd\n",
    "import numpy as np\n",
    "#import acquire as aq\n",
    "\n",
    "import unicodedata\n",
    "import re\n",
    "import os\n",
    "import json\n",
    "\n",
    "import nltk\n",
    "from nltk.tokenize.toktok import ToktokTokenizer\n",
    "from nltk.corpus import stopwords\n",
    "import warnings\n",
    "warnings.filterwarnings('ignore')"
   ]
  },
  {
   "cell_type": "markdown",
   "id": "13abf965",
   "metadata": {},
   "source": [
    "## EXERCISE\n",
    "\n",
    "### 1. Define a function named basic_clean. It should take in a string and apply some basic text cleaning to it:\n",
    "\n",
    "- Lowercase everything\n",
    "- Normalize unicode characters\n",
    "- Replace anything that is not a letter, number, whitespace or a single quote.\n"
   ]
  },
  {
   "cell_type": "code",
   "execution_count": 2,
   "id": "bfab2c03",
   "metadata": {},
   "outputs": [
    {
     "data": {
      "text/plain": [
       "'Serbian scientists named a new species of beetle after ex-world number one men\\'s tennis playerNovak Djokovic. The insect, which belongs to Duvalius genus of ground beetles present in Europe and was discovered several years ago in underground pit in Serbia, has been named \\'Duvalius djokovici\\'.\"We feel urged to pay Djokovic back in...way we can,\" a researcher said.'"
      ]
     },
     "execution_count": 2,
     "metadata": {},
     "output_type": "execute_result"
    }
   ],
   "source": [
    "#original text\n",
    "original = 'Serbian scientists named a new species of beetle after ex-world number one men\\'s tennis player\\\n",
    "Novak Djokovic. The insect, which belongs to Duvalius genus of ground beetles present in Europe and was \\\n",
    "discovered several years ago in underground pit in Serbia, has been named \\'Duvalius djokovici\\'.\\\n",
    "\"We feel urged to pay Djokovic back in...way we can,\" a researcher said.'\n",
    "original"
   ]
  },
  {
   "cell_type": "code",
   "execution_count": 3,
   "id": "59ac5ccc",
   "metadata": {},
   "outputs": [
    {
     "data": {
      "text/plain": [
       "'serbian scientists named a new species of beetle after ex-world number one men\\'s tennis playernovak djokovic. the insect, which belongs to duvalius genus of ground beetles present in europe and was discovered several years ago in underground pit in serbia, has been named \\'duvalius djokovici\\'.\"we feel urged to pay djokovic back in...way we can,\" a researcher said.'"
      ]
     },
     "execution_count": 3,
     "metadata": {},
     "output_type": "execute_result"
    }
   ],
   "source": [
    "#Lowercase everything\n",
    "article = original.lower()\n",
    "article"
   ]
  },
  {
   "cell_type": "code",
   "execution_count": 4,
   "id": "12ba8f64",
   "metadata": {},
   "outputs": [],
   "source": [
    "#import unicode character database\n",
    "import unicodedata"
   ]
  },
  {
   "cell_type": "code",
   "execution_count": 5,
   "id": "0eca2f2e",
   "metadata": {},
   "outputs": [
    {
     "data": {
      "text/plain": [
       "'serbian scientists named a new species of beetle after ex-world number one men\\'s tennis playernovak djokovic. the insect, which belongs to duvalius genus of ground beetles present in europe and was discovered several years ago in underground pit in serbia, has been named \\'duvalius djokovici\\'.\"we feel urged to pay djokovic back in...way we can,\" a researcher said.'"
      ]
     },
     "execution_count": 5,
     "metadata": {},
     "output_type": "execute_result"
    }
   ],
   "source": [
    "article = unicodedata.normalize('NFKD', article)\\\n",
    ".encode('ascii', 'ignore')\\\n",
    ".decode('utf-8')\n",
    "\n",
    "article"
   ]
  },
  {
   "cell_type": "code",
   "execution_count": 6,
   "id": "ec213bc9",
   "metadata": {},
   "outputs": [],
   "source": [
    "#import regular expression operations\n",
    "import re"
   ]
  },
  {
   "cell_type": "code",
   "execution_count": 7,
   "id": "b364966a",
   "metadata": {},
   "outputs": [
    {
     "data": {
      "text/plain": [
       "\"serbian scientists named a new species of beetle after exworld number one men's tennis playernovak djokovic the insect which belongs to duvalius genus of ground beetles present in europe and was discovered several years ago in underground pit in serbia has been named 'duvalius djokovici'we feel urged to pay djokovic back inway we can a researcher said\""
      ]
     },
     "execution_count": 7,
     "metadata": {},
     "output_type": "execute_result"
    }
   ],
   "source": [
    "#use re.sub to remove special characters\n",
    "article = re.sub(r'[^a-z0-9\\'\\s]', '', article)\n",
    "article"
   ]
  },
  {
   "cell_type": "code",
   "execution_count": 8,
   "id": "3d736012",
   "metadata": {},
   "outputs": [],
   "source": [
    "def basic_clean(string):\n",
    "    \"\"\"\n",
    "    This function will take in a string and perform basic cleaning procedutes. It will convert all characters\n",
    "    to lower case, remove accented characters using unicode, and remove all special character \n",
    "    and symbols that are not alphanumeric characters.\n",
    "    \"\"\"\n",
    "    \n",
    "    #Convert to lower case\n",
    "    string = string.lower()\n",
    "    \n",
    "    #Normalize and remove inconsistencies, encode into ascii byte strings and ignore unknown chars,\n",
    "    #decode back into a UTF-8 string\n",
    "    string = unicodedata.normalize('NFKD', string).encode('ascii', 'ignore').decode('UTF-8')\n",
    "    \n",
    "    #Use regex to replace remove/replace all special characters\n",
    "    string = re.sub(r\"[^a-z0-9\\s']\", '', string)\n",
    "    \n",
    "    return string"
   ]
  },
  {
   "cell_type": "code",
   "execution_count": 9,
   "id": "1652669e",
   "metadata": {},
   "outputs": [
    {
     "data": {
      "text/plain": [
       "\"serbian scientists named a new species of beetle after exworld number one men's tennis playernovak djokovic the insect which belongs to duvalius genus of ground beetles present in europe and was discovered several years ago in underground pit in serbia has been named 'duvalius djokovici'we feel urged to pay djokovic back inway we can a researcher said\""
      ]
     },
     "execution_count": 9,
     "metadata": {},
     "output_type": "execute_result"
    }
   ],
   "source": [
    "basic_clean(original)"
   ]
  },
  {
   "cell_type": "markdown",
   "id": "9e8f6460",
   "metadata": {},
   "source": [
    "### 2.Define a function named tokenize. It should take in a string and tokenize all the words in the string."
   ]
  },
  {
   "cell_type": "code",
   "execution_count": 10,
   "id": "0a21f0d1",
   "metadata": {},
   "outputs": [],
   "source": [
    "#import natural language toolkit\n",
    "import nltk"
   ]
  },
  {
   "cell_type": "code",
   "execution_count": 11,
   "id": "a6732224",
   "metadata": {},
   "outputs": [],
   "source": [
    "def tokenize(string):\n",
    "    \"\"\"\n",
    "    This function will take in a string, tokenize it and return the \n",
    "    tokenized string.\n",
    "    \"\"\"\n",
    "    #Create the tokenizer\n",
    "    tokenizer = nltk.tokenize.ToktokTokenizer()\n",
    "    \n",
    "    #Use the tokenizer\n",
    "    string = tokenizer.tokenize(string, return_str = True)\n",
    "    \n",
    "    return string"
   ]
  },
  {
   "cell_type": "code",
   "execution_count": 12,
   "id": "cb3ac4df",
   "metadata": {},
   "outputs": [
    {
     "data": {
      "text/plain": [
       "'Serbian scientists named a new species of beetle after ex-world number one men \\' s tennis playerNovak Djokovic. The insect , which belongs to Duvalius genus of ground beetles present in Europe and was discovered several years ago in underground pit in Serbia , has been named \\' Duvalius djokovici \\' . \" We feel urged to pay Djokovic back in ... way we can , \" a researcher said .'"
      ]
     },
     "execution_count": 12,
     "metadata": {},
     "output_type": "execute_result"
    }
   ],
   "source": [
    "tokenize(original)"
   ]
  },
  {
   "cell_type": "markdown",
   "id": "01744908",
   "metadata": {},
   "source": [
    "### 3.Define a function named stem. It should accept some text and return the text after applying stemming to all the words."
   ]
  },
  {
   "cell_type": "code",
   "execution_count": 13,
   "id": "4cd00c72",
   "metadata": {},
   "outputs": [],
   "source": [
    "def stem(string):\n",
    "    \"\"\"\n",
    "    This function will take in a string return a stemmed version of the string.\n",
    "    \"\"\"\n",
    "    \n",
    "    #Create the stemmer\n",
    "    ps = nltk.porter.PorterStemmer()\n",
    "    \n",
    "    #Apply the stemmer to each word in the string and create a list of stemmed words\n",
    "    stems = [ps.stem(word) for word in string.split()]\n",
    "    \n",
    "    #join the list of stemmed words into a string\n",
    "    string_stemmed = ' '.join(stems)\n",
    "    \n",
    "    return string_stemmed"
   ]
  },
  {
   "cell_type": "code",
   "execution_count": 14,
   "id": "bdb1e6ed",
   "metadata": {},
   "outputs": [
    {
     "data": {
      "text/plain": [
       "\"serbian scientist name a new speci of beetl after exworld number one men ' s tenni playernovak djokov the insect which belong to duvaliu genu of ground beetl present in europ and wa discov sever year ago in underground pit in serbia ha been name ' duvaliu djokovici ' we feel urg to pay djokov back inway we can a research said\""
      ]
     },
     "execution_count": 14,
     "metadata": {},
     "output_type": "execute_result"
    }
   ],
   "source": [
    "# Test function using the tokenized version of my string\n",
    "string = basic_clean(original)\n",
    "\n",
    "stemmed = tokenize(string)\n",
    "\n",
    "string_stemmed = stem(stemmed)\n",
    "\n",
    "string_stemmed"
   ]
  },
  {
   "cell_type": "markdown",
   "id": "9ed8e9da",
   "metadata": {},
   "source": [
    "### 4.Define a function named lemmatize. It should accept some text and return the text after applying lemmatization to each word."
   ]
  },
  {
   "cell_type": "code",
   "execution_count": 15,
   "id": "087e40b2",
   "metadata": {},
   "outputs": [
    {
     "name": "stderr",
     "output_type": "stream",
     "text": [
      "[nltk_data] Downloading package wordnet to\n",
      "[nltk_data]     /Users/patricknash/nltk_data...\n",
      "[nltk_data]   Package wordnet is already up-to-date!\n"
     ]
    },
    {
     "data": {
      "text/plain": [
       "True"
      ]
     },
     "execution_count": 15,
     "metadata": {},
     "output_type": "execute_result"
    }
   ],
   "source": [
    "# Download wornet lemmatized\n",
    "nltk.download('wordnet')"
   ]
  },
  {
   "cell_type": "code",
   "execution_count": 16,
   "id": "f5ed69ad",
   "metadata": {},
   "outputs": [],
   "source": [
    "def lemmatize(string):\n",
    "    \"\"\"\n",
    "    This function takes in a string and returns a lemmatized version of the string.\n",
    "    \"\"\"\n",
    "    \n",
    "    #Create the lemmatizer\n",
    "    wnl = nltk.stem.WordNetLemmatizer()\n",
    "    \n",
    "    #Use the lemmatizer on each word in the string to create a list of lemmatized words\n",
    "    lemmas = [wnl.lemmatize(word) for word in string.split()]\n",
    "    \n",
    "    #Join the lemmatized words into one string\n",
    "    string_lemmatized = ' '.join(lemmas)\n",
    "    \n",
    "    return string_lemmatized"
   ]
  },
  {
   "cell_type": "code",
   "execution_count": 17,
   "id": "80f32309",
   "metadata": {},
   "outputs": [
    {
     "data": {
      "text/plain": [
       "'Serbian scientist named a new specie of beetle after ex-world number one men\\'s tennis playerNovak Djokovic. The insect, which belongs to Duvalius genus of ground beetle present in Europe and wa discovered several year ago in underground pit in Serbia, ha been named \\'Duvalius djokovici\\'.\"We feel urged to pay Djokovic back in...way we can,\" a researcher said.'"
      ]
     },
     "execution_count": 17,
     "metadata": {},
     "output_type": "execute_result"
    }
   ],
   "source": [
    "# Test on my tokenized string\n",
    "lemmatize(original)"
   ]
  },
  {
   "cell_type": "markdown",
   "id": "c0bb3998",
   "metadata": {},
   "source": [
    "### 5.Define a function named remove_stopwords. It should accept some text and return the text after removing all the stopwords.\n",
    "### This function should define two optional parameters, extra_words and exclude_words. These parameters should define any additional stop words to include, and any words that we don't want to remove."
   ]
  },
  {
   "cell_type": "code",
   "execution_count": 18,
   "id": "adb4494b",
   "metadata": {},
   "outputs": [
    {
     "name": "stderr",
     "output_type": "stream",
     "text": [
      "[nltk_data] Downloading package stopwords to\n",
      "[nltk_data]     /Users/patricknash/nltk_data...\n",
      "[nltk_data]   Package stopwords is already up-to-date!\n"
     ]
    },
    {
     "data": {
      "text/plain": [
       "True"
      ]
     },
     "execution_count": 18,
     "metadata": {},
     "output_type": "execute_result"
    }
   ],
   "source": [
    "# dowload nltk stopwords list\n",
    "nltk.download('stopwords')"
   ]
  },
  {
   "cell_type": "code",
   "execution_count": 19,
   "id": "b8bb3934",
   "metadata": {},
   "outputs": [],
   "source": [
    "def remove_stopwords(string, extra_words = [], exclude_words = []):\n",
    "    \"\"\"\n",
    "    This function will take in a string, filter out stop words from the nltk standard english list \n",
    "    as well as any other extra words, and return a version of the text without these stopwords.\n",
    "    It includes optional paramaters allowing the user to add extra words to remove \n",
    "    or to exclude words from the stopword list.\n",
    "    \"\"\"\n",
    "    #Get the standard english stop word list from nltk\n",
    "    stop_words = stopwords.words('english')\n",
    "    \n",
    "    #Add extra words to be removed to the stop word list\n",
    "    for word in extra_words:\n",
    "        stop_words.append(word)\n",
    "    \n",
    "    #Remove words to be excluded from the stop word list\n",
    "    for word in exclude_words:\n",
    "        stop_words.remove(word)\n",
    "    \n",
    "    #Create a list of words to be checked by splitting the string\n",
    "    words = string.split()\n",
    "    \n",
    "    #Filter out all of the stop words\n",
    "    filtered_words = [word for word in words if word not in stop_words]\n",
    "    \n",
    "    #Join the list of filtered words into a string\n",
    "    filtered_string = ' '.join(filtered_words)\n",
    "    \n",
    "    return filtered_string"
   ]
  },
  {
   "cell_type": "code",
   "execution_count": 20,
   "id": "e5e7f890",
   "metadata": {},
   "outputs": [
    {
     "data": {
      "text/plain": [
       "\"serbian scientist name a new speci of beetl after exworld number one men ' s tenni playernovak djokov the insect which belong to duvaliu genu of ground beetl present in europ and wa discov sever year ago in underground pit in serbia ha been name ' duvaliu djokovici ' we feel urg to pay djokov back inway we can a research said\""
      ]
     },
     "execution_count": 20,
     "metadata": {},
     "output_type": "execute_result"
    }
   ],
   "source": [
    "# Test function using the tokenized version of my string\n",
    "string = basic_clean(original)\n",
    "\n",
    "stemmed = tokenize(string)\n",
    "\n",
    "string_stemmed = stem(stemmed)\n",
    "\n",
    "string_stemmed"
   ]
  },
  {
   "cell_type": "markdown",
   "id": "c6ce94cb",
   "metadata": {},
   "source": [
    "### 6.Use your data from the acquire to produce a dataframe of the news articles. Name the dataframe news_df."
   ]
  },
  {
   "cell_type": "code",
   "execution_count": 21,
   "id": "0086147b",
   "metadata": {},
   "outputs": [],
   "source": [
    "#nltk.download('all')"
   ]
  },
  {
   "cell_type": "code",
   "execution_count": 22,
   "id": "f58a203b",
   "metadata": {},
   "outputs": [],
   "source": [
    "#nltk.download('stopwords')"
   ]
  }
 ],
 "metadata": {
  "kernelspec": {
   "display_name": "Python 3 (ipykernel)",
   "language": "python",
   "name": "python3"
  },
  "language_info": {
   "codemirror_mode": {
    "name": "ipython",
    "version": 3
   },
   "file_extension": ".py",
   "mimetype": "text/x-python",
   "name": "python",
   "nbconvert_exporter": "python",
   "pygments_lexer": "ipython3",
   "version": "3.9.12"
  }
 },
 "nbformat": 4,
 "nbformat_minor": 5
}
