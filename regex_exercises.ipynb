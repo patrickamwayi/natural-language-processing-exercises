{
 "cells": [
  {
   "cell_type": "code",
   "execution_count": 3,
   "id": "32460d28",
   "metadata": {},
   "outputs": [],
   "source": [
    "import pandas as pd\n",
    "import re # part of the python stdlib"
   ]
  },
  {
   "cell_type": "markdown",
   "id": "65bc4c4f",
   "metadata": {},
   "source": [
    "## Do your work for this exercise in a file named regex_exercises.\n",
    "\n",
    "\n",
    "### 1. Write a function named is_vowel. It should accept a string as input and use a regular expression to determine if the passed string is a vowel. While not explicity mentioned in the lesson, you can treat the result of re.search as a boolean value that indicates whether or not the regular expression matches the given string."
   ]
  },
  {
   "cell_type": "code",
   "execution_count": 36,
   "id": "79b5760a",
   "metadata": {},
   "outputs": [],
   "source": [
    "# Let us define function to determine if a character is vowel\n",
    "def is_vowel(string):\n",
    "    \n",
    "    if re.search(r'^[aeiou]{1}$', string):\n",
    "        return True\n",
    "    else:\n",
    "        return False"
   ]
  },
  {
   "cell_type": "code",
   "execution_count": 39,
   "id": "d03f9c4c",
   "metadata": {},
   "outputs": [
    {
     "data": {
      "text/plain": [
       "True"
      ]
     },
     "execution_count": 39,
     "metadata": {},
     "output_type": "execute_result"
    }
   ],
   "source": [
    "# let us check if 'i' is a vowel\n",
    "is_vowel('i')"
   ]
  },
  {
   "cell_type": "code",
   "execution_count": 40,
   "id": "abacd827",
   "metadata": {},
   "outputs": [
    {
     "data": {
      "text/plain": [
       "False"
      ]
     },
     "execution_count": 40,
     "metadata": {},
     "output_type": "execute_result"
    }
   ],
   "source": [
    "# what about 'z'?\n",
    "is_vowel('z')"
   ]
  },
  {
   "cell_type": "markdown",
   "id": "2e084a38",
   "metadata": {},
   "source": [
    "### 2. Write a function named is_valid_username that accepts a string as input. A valid username starts with a lowercase letter, and only consists of lowercase letters, numbers, or the _ character. It should also be no longer than 32 characters. The function should return either True or False depending on whether the passed string is a valid username.\n",
    "\n",
    ">is_valid_username('aaaaaaaaaaaaaaaaaaaaaaaaaaaaaaaaa')\n",
    "False\n",
    "\n",
    ">is_valid_username('codeup')\n",
    "True\n",
    "\n",
    ">is_valid_username('Codeup')\n",
    "False\n",
    "\n",
    ">is_valid_username('codeup123')\n",
    "True\n",
    "\n",
    ">is_valid_username('1codeup')\n",
    "False\n"
   ]
  },
  {
   "cell_type": "code",
   "execution_count": 29,
   "id": "9019d020",
   "metadata": {},
   "outputs": [],
   "source": [
    "# Let us define function to determine valid usernames\n",
    "def is_valid_username(name):\n",
    "    \n",
    "    if re.search(r'^[a-z][a-z0-9\\_]{,31}$', name):\n",
    "        return True\n",
    "    else:\n",
    "        return False"
   ]
  },
  {
   "cell_type": "code",
   "execution_count": 30,
   "id": "b352eff6",
   "metadata": {},
   "outputs": [
    {
     "data": {
      "text/plain": [
       "False"
      ]
     },
     "execution_count": 30,
     "metadata": {},
     "output_type": "execute_result"
    }
   ],
   "source": [
    "# let us check if username is too long\n",
    "is_valid_username('aaaaaaaaaaaaaaaaaaaaaaaaaaaaaaaaa')"
   ]
  },
  {
   "cell_type": "code",
   "execution_count": 31,
   "id": "58a884ce",
   "metadata": {},
   "outputs": [
    {
     "data": {
      "text/plain": [
       "True"
      ]
     },
     "execution_count": 31,
     "metadata": {},
     "output_type": "execute_result"
    }
   ],
   "source": [
    "# check if codeup username is valid\n",
    "is_valid_username('codeup')"
   ]
  },
  {
   "cell_type": "code",
   "execution_count": 32,
   "id": "ecc020dd",
   "metadata": {},
   "outputs": [
    {
     "data": {
      "text/plain": [
       "False"
      ]
     },
     "execution_count": 32,
     "metadata": {},
     "output_type": "execute_result"
    }
   ],
   "source": [
    "# check if Codeup username valid, nope because it has Uppercase\n",
    "is_valid_username('Codeup')"
   ]
  },
  {
   "cell_type": "code",
   "execution_count": 33,
   "id": "20e3e921",
   "metadata": {},
   "outputs": [
    {
     "data": {
      "text/plain": [
       "True"
      ]
     },
     "execution_count": 33,
     "metadata": {},
     "output_type": "execute_result"
    }
   ],
   "source": [
    "# let us check if codeup123 username is valid\n",
    "is_valid_username('codeup123')"
   ]
  },
  {
   "cell_type": "code",
   "execution_count": 34,
   "id": "7b717fa9",
   "metadata": {},
   "outputs": [
    {
     "data": {
      "text/plain": [
       "False"
      ]
     },
     "execution_count": 34,
     "metadata": {},
     "output_type": "execute_result"
    }
   ],
   "source": [
    "# let us check if #1 at the beginning of codeup is valid\n",
    "is_valid_username('1codeup')"
   ]
  },
  {
   "cell_type": "markdown",
   "id": "4141b678",
   "metadata": {},
   "source": [
    "### 3. Write a regular expression to capture phone numbers. It should match all of the following:\n",
    "\n",
    "(210) 867 5309\n",
    "\n",
    "+1 210.867.5309\n",
    "\n",
    "867-5309\n",
    "\n",
    "210-867-5309\n"
   ]
  },
  {
   "cell_type": "code",
   "execution_count": 25,
   "id": "2383f60e",
   "metadata": {},
   "outputs": [],
   "source": [
    "# Regex to capture phone numbers\n",
    "phone_pattern = r'^.\\d+([\\s\\.\\)-]+\\d+)+$'"
   ]
  },
  {
   "cell_type": "code",
   "execution_count": 26,
   "id": "376329af",
   "metadata": {},
   "outputs": [
    {
     "data": {
      "text/plain": [
       "<re.Match object; span=(0, 14), match='(210) 867 5309'>"
      ]
     },
     "execution_count": 26,
     "metadata": {},
     "output_type": "execute_result"
    }
   ],
   "source": [
    "# let us see if it can take parantheses and spaces?\n",
    "re.search(phone_pattern, '(210) 867 5309')"
   ]
  },
  {
   "cell_type": "code",
   "execution_count": 27,
   "id": "b973067d",
   "metadata": {},
   "outputs": [
    {
     "data": {
      "text/plain": [
       "<re.Match object; span=(0, 8), match='867-5309'>"
      ]
     },
     "execution_count": 27,
     "metadata": {},
     "output_type": "execute_result"
    }
   ],
   "source": [
    "# let us also see if it can take shorter number\n",
    "re.search(phone_pattern, '867-5309')"
   ]
  },
  {
   "cell_type": "code",
   "execution_count": 28,
   "id": "390a1a6e",
   "metadata": {},
   "outputs": [
    {
     "data": {
      "text/plain": [
       "<re.Match object; span=(0, 12), match='210-867-5309'>"
      ]
     },
     "execution_count": 28,
     "metadata": {},
     "output_type": "execute_result"
    }
   ],
   "source": [
    "# how about same number without paranthesis?\n",
    "re.search(phone_pattern, '210-867-5309')"
   ]
  },
  {
   "cell_type": "markdown",
   "id": "81991ec2",
   "metadata": {},
   "source": [
    "### 4. Use regular expressions to convert the dates below to the standardized year-month-day format.\n",
    "02/04/19\n",
    "\n",
    "02/05/19\n",
    "\n",
    "02/06/19\n",
    "\n",
    "02/07/19\n",
    "\n",
    "02/08/19\n",
    "\n",
    "02/09/19\n",
    "\n",
    "02/10/19\n"
   ]
  },
  {
   "cell_type": "code",
   "execution_count": 41,
   "id": "45c59218",
   "metadata": {},
   "outputs": [],
   "source": [
    "# let us first store dates to a list\n",
    "dates = [\n",
    "    '02/04/19',\n",
    "    '02/05/19',\n",
    "    '02/06/19',\n",
    "    '02/07/19',\n",
    "    '02/08/19',\n",
    "    '02/09/19',\n",
    "    '02/10/19'\n",
    "]"
   ]
  },
  {
   "cell_type": "code",
   "execution_count": 42,
   "id": "de69dc64",
   "metadata": {},
   "outputs": [
    {
     "data": {
      "text/plain": [
       "'2019-02-04'"
      ]
     },
     "execution_count": 42,
     "metadata": {},
     "output_type": "execute_result"
    }
   ],
   "source": [
    "date_regex = r'(\\d+)/(\\d+)/(\\d+)'\n",
    "\n",
    "# let us check if it works on one date\n",
    "re.sub(date_regex, r'20\\3-\\1-\\2',dates[0])"
   ]
  },
  {
   "cell_type": "code",
   "execution_count": 43,
   "id": "bb4930c4",
   "metadata": {},
   "outputs": [
    {
     "data": {
      "text/plain": [
       "['2019-02-04',\n",
       " '2019-02-05',\n",
       " '2019-02-06',\n",
       " '2019-02-07',\n",
       " '2019-02-08',\n",
       " '2019-02-09',\n",
       " '2019-02-10']"
      ]
     },
     "execution_count": 43,
     "metadata": {},
     "output_type": "execute_result"
    }
   ],
   "source": [
    "# it did work, so let's apply to all\n",
    "[re.sub(date_regex, r'20\\3-\\1-\\2',date) for date in dates]"
   ]
  },
  {
   "cell_type": "markdown",
   "id": "b647b729",
   "metadata": {},
   "source": [
    "### 5. Write a regex to extract the various parts of these logfile lines:\n",
    "GET /api/v1/sales?page=86 [16/Apr/2019:193452+0000] HTTP/1.1 {200} 510348 \"python-requests/2.21.0\" 97.105.19.58\n",
    "\n",
    "POST /users_accounts/file-upload [16/Apr/2019:193452+0000] HTTP/1.1 {201} 42 \"User-Agent: Mozilla/5.0 (X11; Fedora; Fedora; Linux x86_64) AppleWebKit/537.36 (KHTML, like Gecko) Chrome/73.0.3683.86 Safari/537.36\" 97.105.19.58\n",
    "\n",
    "GET /api/v1/items?page=3 [16/Apr/2019:193453+0000] HTTP/1.1 {429} 3561 \"python-requests/2.21.0\" 97.105.19.58\n",
    "\n",
    "\n"
   ]
  },
  {
   "cell_type": "code",
   "execution_count": 48,
   "id": "10313853",
   "metadata": {},
   "outputs": [],
   "source": [
    "logs = '''\n",
    "GET /api/v1/sales?page=86 [16/Apr/2019:193452+0000] HTTP/1.1 {200} 510348 \"python-requests/2.21.0\" 97.105.19.58\n",
    "POST /users_accounts/file-upload [16/Apr/2019:193452+0000] HTTP/1.1 {201} 42 \"User-Agent: Mozilla/5.0 (X11; Fedora; Fedora; Linux x86_64) AppleWebKit/537.36 (KHTML, like Gecko) Chrome/73.0.3683.86 Safari/537.36\" 97.105.19.58\n",
    "GET /api/v1/items?page=3 [16/Apr/2019:193453+0000] HTTP/1.1 {429} 3561 \"python-requests/2.21.0\" 97.105.19.58\n",
    "'''"
   ]
  },
  {
   "cell_type": "code",
   "execution_count": 49,
   "id": "c3016ec3",
   "metadata": {},
   "outputs": [
    {
     "data": {
      "text/plain": [
       "['GET /api/v1/sales?page=86 [16/Apr/2019:193452+0000] HTTP/1.1 {200} 510348 \"python-requests/2.21.0\" 97.105.19.58',\n",
       " 'POST /users_accounts/file-upload [16/Apr/2019:193452+0000] HTTP/1.1 {201} 42 \"User-Agent: Mozilla/5.0 (X11; Fedora; Fedora; Linux x86_64) AppleWebKit/537.36 (KHTML, like Gecko) Chrome/73.0.3683.86 Safari/537.36\" 97.105.19.58',\n",
       " 'GET /api/v1/items?page=3 [16/Apr/2019:193453+0000] HTTP/1.1 {429} 3561 \"python-requests/2.21.0\" 97.105.19.58']"
      ]
     },
     "execution_count": 49,
     "metadata": {},
     "output_type": "execute_result"
    }
   ],
   "source": [
    "logs = logs.strip().split('\\n')\n",
    "logs"
   ]
  },
  {
   "cell_type": "code",
   "execution_count": 50,
   "id": "5b5687c9",
   "metadata": {},
   "outputs": [
    {
     "data": {
      "text/plain": [
       "'GET /api/v1/sales?page=86 [16/Apr/2019:193452+0000] HTTP/1.1 {200} 510348 \"python-requests/2.21.0\" 97.105.19.58'"
      ]
     },
     "execution_count": 50,
     "metadata": {},
     "output_type": "execute_result"
    }
   ],
   "source": [
    "logs[0]"
   ]
  },
  {
   "cell_type": "code",
   "execution_count": 51,
   "id": "817e2ab7",
   "metadata": {},
   "outputs": [
    {
     "data": {
      "text/plain": [
       "[('GET',\n",
       "  '/api/v1/sales?page=86',\n",
       "  '16/Apr/2019',\n",
       "  'HTTP/1.1',\n",
       "  '200',\n",
       "  '510348',\n",
       "  'python-requests/2.21.0',\n",
       "  '97.105.19.58')]"
      ]
     },
     "execution_count": 51,
     "metadata": {},
     "output_type": "execute_result"
    }
   ],
   "source": [
    "regexp = r'(\\w+)\\s(.*?)\\s\\[(.*?)\\:.*?\\s(.*?)\\s\\{(\\d+)\\}\\s(\\d+)\\s\"(.*?)\"\\s(.*)'\n",
    "\n",
    "re.findall(regexp, logs[0])"
   ]
  },
  {
   "cell_type": "code",
   "execution_count": 52,
   "id": "215ca2f5",
   "metadata": {},
   "outputs": [
    {
     "data": {
      "text/plain": [
       "{'method_request': 'GET',\n",
       " 'path': '/api/v1/sales?page=86',\n",
       " 'date': '16/Apr/2019',\n",
       " 'http_version': 'HTTP/1.1',\n",
       " 'response_code': '200',\n",
       " 'size_bytes': '510348',\n",
       " 'user_agent': 'python-requests/2.21.0',\n",
       " 'ip_address': '97.105.19.58'}"
      ]
     },
     "execution_count": 52,
     "metadata": {},
     "output_type": "execute_result"
    }
   ],
   "source": [
    "regexp = r'''\n",
    "        (?P<method_request>\\w+)\\s\n",
    "        (?P<path>.*?)\\s\\[\n",
    "        (?P<date>.*?)\\:.*?\\s\n",
    "        (?P<http_version>.*?)\\s\\{\n",
    "        (?P<response_code>\\d+)\\}\\s\n",
    "        (?P<size_bytes>\\d+)\\s\"\n",
    "        (?P<user_agent>.*?)\"\\s\n",
    "        (?P<ip_address>.*)\n",
    "        '''\n",
    "re.search(regexp, logs[0], re.VERBOSE).groupdict()"
   ]
  },
  {
   "cell_type": "code",
   "execution_count": 53,
   "id": "541e654a",
   "metadata": {},
   "outputs": [
    {
     "data": {
      "text/plain": [
       "[{'method_request': 'GET',\n",
       "  'path': '/api/v1/sales?page=86',\n",
       "  'date': '16/Apr/2019',\n",
       "  'http_version': 'HTTP/1.1',\n",
       "  'response_code': '200',\n",
       "  'size_bytes': '510348',\n",
       "  'user_agent': 'python-requests/2.21.0',\n",
       "  'ip_address': '97.105.19.58'},\n",
       " {'method_request': 'POST',\n",
       "  'path': '/users_accounts/file-upload',\n",
       "  'date': '16/Apr/2019',\n",
       "  'http_version': 'HTTP/1.1',\n",
       "  'response_code': '201',\n",
       "  'size_bytes': '42',\n",
       "  'user_agent': 'User-Agent: Mozilla/5.0 (X11; Fedora; Fedora; Linux x86_64) AppleWebKit/537.36 (KHTML, like Gecko) Chrome/73.0.3683.86 Safari/537.36',\n",
       "  'ip_address': '97.105.19.58'},\n",
       " {'method_request': 'GET',\n",
       "  'path': '/api/v1/items?page=3',\n",
       "  'date': '16/Apr/2019',\n",
       "  'http_version': 'HTTP/1.1',\n",
       "  'response_code': '429',\n",
       "  'size_bytes': '3561',\n",
       "  'user_agent': 'python-requests/2.21.0',\n",
       "  'ip_address': '97.105.19.58'}]"
      ]
     },
     "execution_count": 53,
     "metadata": {},
     "output_type": "execute_result"
    }
   ],
   "source": [
    "logs_parsed = [re.search(regexp, log, re.VERBOSE).groupdict() for log in logs]\n",
    "logs_parsed"
   ]
  },
  {
   "cell_type": "code",
   "execution_count": 54,
   "id": "cd4f2a55",
   "metadata": {},
   "outputs": [
    {
     "data": {
      "text/html": [
       "<div>\n",
       "<style scoped>\n",
       "    .dataframe tbody tr th:only-of-type {\n",
       "        vertical-align: middle;\n",
       "    }\n",
       "\n",
       "    .dataframe tbody tr th {\n",
       "        vertical-align: top;\n",
       "    }\n",
       "\n",
       "    .dataframe thead th {\n",
       "        text-align: right;\n",
       "    }\n",
       "</style>\n",
       "<table border=\"1\" class=\"dataframe\">\n",
       "  <thead>\n",
       "    <tr style=\"text-align: right;\">\n",
       "      <th></th>\n",
       "      <th>method_request</th>\n",
       "      <th>path</th>\n",
       "      <th>date</th>\n",
       "      <th>http_version</th>\n",
       "      <th>response_code</th>\n",
       "      <th>size_bytes</th>\n",
       "      <th>user_agent</th>\n",
       "      <th>ip_address</th>\n",
       "    </tr>\n",
       "  </thead>\n",
       "  <tbody>\n",
       "    <tr>\n",
       "      <th>0</th>\n",
       "      <td>GET</td>\n",
       "      <td>/api/v1/sales?page=86</td>\n",
       "      <td>16/Apr/2019</td>\n",
       "      <td>HTTP/1.1</td>\n",
       "      <td>200</td>\n",
       "      <td>510348</td>\n",
       "      <td>python-requests/2.21.0</td>\n",
       "      <td>97.105.19.58</td>\n",
       "    </tr>\n",
       "    <tr>\n",
       "      <th>1</th>\n",
       "      <td>POST</td>\n",
       "      <td>/users_accounts/file-upload</td>\n",
       "      <td>16/Apr/2019</td>\n",
       "      <td>HTTP/1.1</td>\n",
       "      <td>201</td>\n",
       "      <td>42</td>\n",
       "      <td>User-Agent: Mozilla/5.0 (X11; Fedora; Fedora; ...</td>\n",
       "      <td>97.105.19.58</td>\n",
       "    </tr>\n",
       "    <tr>\n",
       "      <th>2</th>\n",
       "      <td>GET</td>\n",
       "      <td>/api/v1/items?page=3</td>\n",
       "      <td>16/Apr/2019</td>\n",
       "      <td>HTTP/1.1</td>\n",
       "      <td>429</td>\n",
       "      <td>3561</td>\n",
       "      <td>python-requests/2.21.0</td>\n",
       "      <td>97.105.19.58</td>\n",
       "    </tr>\n",
       "  </tbody>\n",
       "</table>\n",
       "</div>"
      ],
      "text/plain": [
       "  method_request                         path         date http_version  \\\n",
       "0            GET        /api/v1/sales?page=86  16/Apr/2019     HTTP/1.1   \n",
       "1           POST  /users_accounts/file-upload  16/Apr/2019     HTTP/1.1   \n",
       "2            GET         /api/v1/items?page=3  16/Apr/2019     HTTP/1.1   \n",
       "\n",
       "  response_code size_bytes                                         user_agent  \\\n",
       "0           200     510348                             python-requests/2.21.0   \n",
       "1           201         42  User-Agent: Mozilla/5.0 (X11; Fedora; Fedora; ...   \n",
       "2           429       3561                             python-requests/2.21.0   \n",
       "\n",
       "     ip_address  \n",
       "0  97.105.19.58  \n",
       "1  97.105.19.58  \n",
       "2  97.105.19.58  "
      ]
     },
     "execution_count": 54,
     "metadata": {},
     "output_type": "execute_result"
    }
   ],
   "source": [
    "pd.DataFrame(logs_parsed)"
   ]
  },
  {
   "cell_type": "code",
   "execution_count": null,
   "id": "b0462ef3",
   "metadata": {},
   "outputs": [],
   "source": []
  }
 ],
 "metadata": {
  "kernelspec": {
   "display_name": "Python 3 (ipykernel)",
   "language": "python",
   "name": "python3"
  },
  "language_info": {
   "codemirror_mode": {
    "name": "ipython",
    "version": 3
   },
   "file_extension": ".py",
   "mimetype": "text/x-python",
   "name": "python",
   "nbconvert_exporter": "python",
   "pygments_lexer": "ipython3",
   "version": "3.9.12"
  }
 },
 "nbformat": 4,
 "nbformat_minor": 5
}
